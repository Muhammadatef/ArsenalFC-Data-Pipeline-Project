{
 "cells": [
  {
   "cell_type": "code",
   "execution_count": 2,
   "id": "0e061531-81a4-44cd-8054-c5c181280ab5",
   "metadata": {},
   "outputs": [],
   "source": [
    "from pyspark.sql import SparkSession\n",
    "from pyspark.sql.functions import *"
   ]
  },
  {
   "cell_type": "code",
   "execution_count": 14,
   "id": "a901b6a1-7777-4b2b-8e74-6b538f8a0d61",
   "metadata": {},
   "outputs": [
    {
     "name": "stdout",
     "output_type": "stream",
     "text": [
      "<pyspark.sql.session.SparkSession object at 0x7f9f084a03d0>\n"
     ]
    }
   ],
   "source": [
    "spark = SparkSession.builder.config(\"spark.jars\", \"/Drivers/SQL_Sever/jdbc/postgresql-42.7.3.jar\")\\\n",
    ".getOrCreate()\n",
    "print(spark)"
   ]
  },
  {
   "cell_type": "code",
   "execution_count": 15,
   "id": "3d40b428-54c4-43a4-adb7-55730ac03d06",
   "metadata": {},
   "outputs": [],
   "source": [
    "# def sparkSession():\n",
    "#     # Create a Spark session\n",
    "#     from pyspark.sql import SparkSession\n",
    "#     spark = SparkSession.builder \\\n",
    "#     .appName(\"ETL\") \\\n",
    "#     .config(\"spark.jars\", \"/opt/bitnami/spark/drivers/postgresql-42.7.3.jar\") \\\n",
    "#     .getOrCreate()\n",
    "#     return spark\n"
   ]
  },
  {
   "cell_type": "code",
   "execution_count": 16,
   "id": "65ef8d99-b50c-4709-8b3f-07c95e95153d",
   "metadata": {},
   "outputs": [],
   "source": [
    "# spark = sparkSession()"
   ]
  },
  {
   "cell_type": "code",
   "execution_count": 17,
   "id": "3e77eb8b-c27c-4cad-bab7-349d7b6cc601",
   "metadata": {},
   "outputs": [],
   "source": [
    "DfMatches=spark.read.csv(\"../data/matches.csv\", header=True)"
   ]
  },
  {
   "cell_type": "markdown",
   "id": "5c5494a7-9597-4d1a-98a3-efbce7a352f6",
   "metadata": {},
   "source": [
    "DfMatches.write.format(\"jdbc\") \\\n",
    ".option(\"url\", f\"jdbc:postgresql://{ip}:{port}:\\{dbname}\")"
   ]
  },
  {
   "cell_type": "code",
   "execution_count": 21,
   "id": "66d0f1c1-d231-4d48-a246-9188984c9da6",
   "metadata": {},
   "outputs": [],
   "source": [
    "DfMatches.write.format(\"jdbc\") \\\n",
    "        .option(\"url\", \"jdbc:postgresql://postgres:5432/arsenalfc\") \\\n",
    "        .option(\"driver\", \"org.postgresql.Driver\") \\\n",
    "        .option(\"dbtable\", \"arsenalmatches\") \\\n",
    "        .option(\"user\", \"postgres\") \\\n",
    "        .option(\"password\", \"postgres\") \\\n",
    "        .mode(\"overwrite\") \\\n",
    "        .save()"
   ]
  },
  {
   "cell_type": "code",
   "execution_count": 22,
   "id": "6a051002-2965-4d95-8c68-8e67f6967bb3",
   "metadata": {},
   "outputs": [],
   "source": [
    "DfGK=spark.read.csv(\"../data/goalkeepers.csv\", header=True)"
   ]
  },
  {
   "cell_type": "code",
   "execution_count": 23,
   "id": "8ac01463-a160-4260-bdee-2e034be19aae",
   "metadata": {},
   "outputs": [],
   "source": [
    "DfGK.write.format(\"jdbc\") \\\n",
    "        .option(\"url\", \"jdbc:postgresql://postgres:5432/arsenalfc\") \\\n",
    "        .option(\"driver\", \"org.postgresql.Driver\") \\\n",
    "        .option(\"dbtable\", \"arsenalGK\") \\\n",
    "        .option(\"user\", \"postgres\") \\\n",
    "        .option(\"password\", \"postgres\") \\\n",
    "        .mode(\"overwrite\") \\\n",
    "        .save()"
   ]
  },
  {
   "cell_type": "code",
   "execution_count": 24,
   "id": "23d61c60-41e5-46bc-b4de-ae6fd0b9bdca",
   "metadata": {},
   "outputs": [],
   "source": [
    "DfPlayers=spark.read.csv(\"../data/players.csv\", header=True)"
   ]
  },
  {
   "cell_type": "code",
   "execution_count": 25,
   "id": "ea66b4f6-6bbd-4e8a-aa2a-0b8b8dc264a6",
   "metadata": {},
   "outputs": [],
   "source": [
    "DfPlayers.write.format(\"jdbc\") \\\n",
    "        .option(\"url\", \"jdbc:postgresql://postgres:5432/arsenalfc\") \\\n",
    "        .option(\"driver\", \"org.postgresql.Driver\") \\\n",
    "        .option(\"dbtable\", \"arsenalPlayers\") \\\n",
    "        .option(\"user\", \"postgres\") \\\n",
    "        .option(\"password\", \"postgres\") \\\n",
    "        .mode(\"overwrite\") \\\n",
    "        .save()"
   ]
  },
  {
   "cell_type": "code",
   "execution_count": null,
   "id": "21a55165-2cbf-4255-85b1-6e7b9eb8272b",
   "metadata": {},
   "outputs": [],
   "source": []
  }
 ],
 "metadata": {
  "kernelspec": {
   "display_name": "Python 3 (ipykernel)",
   "language": "python",
   "name": "python3"
  },
  "language_info": {
   "codemirror_mode": {
    "name": "ipython",
    "version": 3
   },
   "file_extension": ".py",
   "mimetype": "text/x-python",
   "name": "python",
   "nbconvert_exporter": "python",
   "pygments_lexer": "ipython3",
   "version": "3.11.6"
  }
 },
 "nbformat": 4,
 "nbformat_minor": 5
}
