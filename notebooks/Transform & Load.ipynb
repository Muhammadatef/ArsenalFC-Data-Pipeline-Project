{
 "cells": [
  {
   "cell_type": "code",
   "execution_count": 1,
   "id": "6d0c2358-ce6e-4a3b-9164-529d435978f9",
   "metadata": {},
   "outputs": [],
   "source": [
    "from pyspark.sql import SparkSession\n",
    "from pyspark.sql.functions import *\n",
    "from pyspark.sql.functions import to_date, date_format\n"
   ]
  },
  {
   "cell_type": "code",
   "execution_count": 2,
   "id": "b14fb982-c244-4a09-835b-a7fd0e93d285",
   "metadata": {},
   "outputs": [],
   "source": [
    "from pyspark.sql import SparkSession\n",
    "from pyspark.sql.functions import *\n",
    "from pyspark.sql.functions import to_date, date_format\n"
   ]
  },
  {
   "cell_type": "code",
   "execution_count": 3,
   "id": "b79e652c-5cca-4457-bdfb-abb6cfc94ec1",
   "metadata": {},
   "outputs": [],
   "source": [
    "spark = SparkSession.builder.config(\"spark.jars\", \"/Drivers/SQL_Sever/jdbc/postgresql-42.7.3.jar\")\\\n",
    ".getOrCreate()\n"
   ]
  },
  {
   "cell_type": "markdown",
   "id": "dcba37d5-7479-4e1e-a931-d3b1176a422c",
   "metadata": {},
   "source": [
    "## Loading Data From Postgres"
   ]
  },
  {
   "cell_type": "code",
   "execution_count": 4,
   "id": "e038fca3-1fbc-416d-82d7-50de807c7e73",
   "metadata": {},
   "outputs": [],
   "source": [
    "tbl_list = ['arsenalmatches', 'arsenalPlayers','arsenalGK']\n",
    "dataframe = {}\n",
    "for table in tbl_list:\n",
    "   df = spark.read.format(\"jdbc\") \\\n",
    "        .option(\"url\", \"jdbc:postgresql://postgres:5432/arsenalfc\") \\\n",
    "        .option(\"driver\", \"org.postgresql.Driver\") \\\n",
    "        .option(\"dbtable\", f\"{table}\") \\\n",
    "        .option(\"user\", \"postgres\") \\\n",
    "        .option(\"password\", \"postgres\") \\\n",
    "        .load()\n",
    "   dataframe[table] = df"
   ]
  },
  {
   "cell_type": "code",
   "execution_count": 5,
   "id": "3e53694b-8523-40ab-bef7-ef6435c209f3",
   "metadata": {},
   "outputs": [
    {
     "data": {
      "text/plain": [
       "dict_keys(['arsenalmatches', 'arsenalPlayers', 'arsenalGK'])"
      ]
     },
     "execution_count": 5,
     "metadata": {},
     "output_type": "execute_result"
    }
   ],
   "source": [
    "dataframe.keys()"
   ]
  },
  {
   "cell_type": "code",
   "execution_count": 6,
   "id": "95e68098-89f3-4fad-9b88-123ca4f30150",
   "metadata": {},
   "outputs": [
    {
     "name": "stdout",
     "output_type": "stream",
     "text": [
      "{'arsenalmatches': DataFrame[Season: string, Tour: string, Date: string, Time: string, Opponent: string, HoAw: string, ArsenalScore: string, OpponentScore: string, Stadium: string, Attendance: string, Coach: string, Referee: string], 'arsenalPlayers': DataFrame[LastName: string, FirstName: string, Date: string, Start: string, Pos: string, Min: string, G: string, A: string, PK: string, PKA: string, S: string, SoT: string, YK: string, RK: string, Touches: string, Tackles: string, Ints: string, Blocks: string, xG: string, npxG: string, xAG: string, Passes: string, PassesA: string, PrgPas: string, Carries: string, PrgCar: string, Line: string, C: string], 'arsenalGK': DataFrame[LastName: string, FirstName: string, Date: string, Start: string, Pos: string, Min: string, SoTA: string, GA: string, Saves: string, PSxG: string, PKatt: string, PKA: string, PKm: string, PassAtt: string, Throws: string, AvgLen: string, GKAtt: string, GKAvgLen: string, C: string]}\n"
     ]
    }
   ],
   "source": [
    "print(dataframe)"
   ]
  },
  {
   "cell_type": "code",
   "execution_count": 7,
   "id": "a1388cb8-3c11-490a-8bb9-df47887bee22",
   "metadata": {},
   "outputs": [
    {
     "data": {
      "text/plain": [
       "['Season',\n",
       " 'Tour',\n",
       " 'Date',\n",
       " 'Time',\n",
       " 'Opponent',\n",
       " 'HoAw',\n",
       " 'ArsenalScore',\n",
       " 'OpponentScore',\n",
       " 'Stadium',\n",
       " 'Attendance',\n",
       " 'Coach',\n",
       " 'Referee']"
      ]
     },
     "execution_count": 7,
     "metadata": {},
     "output_type": "execute_result"
    }
   ],
   "source": [
    "Matches = dataframe['arsenalmatches']\n",
    "Matches.columns"
   ]
  },
  {
   "cell_type": "code",
   "execution_count": 8,
   "id": "0591b0a7-9592-49ac-bd95-eb5a72e585d5",
   "metadata": {},
   "outputs": [
    {
     "data": {
      "text/plain": [
       "['LastName',\n",
       " 'FirstName',\n",
       " 'Date',\n",
       " 'Start',\n",
       " 'Pos',\n",
       " 'Min',\n",
       " 'G',\n",
       " 'A',\n",
       " 'PK',\n",
       " 'PKA',\n",
       " 'S',\n",
       " 'SoT',\n",
       " 'YK',\n",
       " 'RK',\n",
       " 'Touches',\n",
       " 'Tackles',\n",
       " 'Ints',\n",
       " 'Blocks',\n",
       " 'xG',\n",
       " 'npxG',\n",
       " 'xAG',\n",
       " 'Passes',\n",
       " 'PassesA',\n",
       " 'PrgPas',\n",
       " 'Carries',\n",
       " 'PrgCar',\n",
       " 'Line',\n",
       " 'C']"
      ]
     },
     "execution_count": 8,
     "metadata": {},
     "output_type": "execute_result"
    }
   ],
   "source": [
    "Players = dataframe['arsenalPlayers']\n",
    "Players.columns"
   ]
  },
  {
   "cell_type": "code",
   "execution_count": 9,
   "id": "f0166840-5a10-4fc3-9884-deee8fa0b651",
   "metadata": {},
   "outputs": [
    {
     "data": {
      "text/plain": [
       "['LastName',\n",
       " 'FirstName',\n",
       " 'Date',\n",
       " 'Start',\n",
       " 'Pos',\n",
       " 'Min',\n",
       " 'SoTA',\n",
       " 'GA',\n",
       " 'Saves',\n",
       " 'PSxG',\n",
       " 'PKatt',\n",
       " 'PKA',\n",
       " 'PKm',\n",
       " 'PassAtt',\n",
       " 'Throws',\n",
       " 'AvgLen',\n",
       " 'GKAtt',\n",
       " 'GKAvgLen',\n",
       " 'C']"
      ]
     },
     "execution_count": 9,
     "metadata": {},
     "output_type": "execute_result"
    }
   ],
   "source": [
    "GoalKeepers = dataframe['arsenalGK']\n",
    "GoalKeepers.columns\n"
   ]
  },
  {
   "cell_type": "markdown",
   "id": "04c84103-0718-4daf-aea7-f23cd4c82c12",
   "metadata": {},
   "source": [
    "### Transforming Arsenal Matches Data"
   ]
  },
  {
   "cell_type": "code",
   "execution_count": 10,
   "id": "35e18599-a8ce-4fde-bac0-afea754ac4ef",
   "metadata": {},
   "outputs": [],
   "source": [
    "Matches.createOrReplaceTempView(\"Matches\")"
   ]
  },
  {
   "cell_type": "code",
   "execution_count": 11,
   "id": "1ac2a9e1-86af-428e-820c-7f3742e294a2",
   "metadata": {},
   "outputs": [
    {
     "name": "stdout",
     "output_type": "stream",
     "text": [
      "+--------------------+\n",
      "|count(DISTINCT Date)|\n",
      "+--------------------+\n",
      "|                 214|\n",
      "+--------------------+\n",
      "\n"
     ]
    }
   ],
   "source": [
    "distinct_matches = spark.sql (\"\"\"\n",
    "select Count(distinct Date) from Matches\n",
    "\n",
    "\"\"\").show()"
   ]
  },
  {
   "cell_type": "markdown",
   "id": "3a4ebfe5-9293-400a-8f57-e396ae14f277",
   "metadata": {},
   "source": [
    "#### Making sure that all matches are unique for each date"
   ]
  },
  {
   "cell_type": "code",
   "execution_count": 12,
   "id": "04541ba2-d642-445e-9702-c2c0c84bf710",
   "metadata": {},
   "outputs": [
    {
     "name": "stdout",
     "output_type": "stream",
     "text": [
      "+-----------+\n",
      "|count(Date)|\n",
      "+-----------+\n",
      "|        214|\n",
      "+-----------+\n",
      "\n"
     ]
    }
   ],
   "source": [
    "matches = spark.sql (\"\"\"\n",
    "select Count(Date) from Matches\n",
    "\n",
    "\"\"\").show()"
   ]
  },
  {
   "cell_type": "markdown",
   "id": "5f95c8ce-6340-4b78-9574-2edacd25cf74",
   "metadata": {},
   "source": [
    "#### Know the Max and Min date to create the DimDate Later"
   ]
  },
  {
   "cell_type": "code",
   "execution_count": 13,
   "id": "e94a9580-c463-4854-97b4-2c40d94c670a",
   "metadata": {},
   "outputs": [
    {
     "name": "stdout",
     "output_type": "stream",
     "text": [
      "+----------+----------+\n",
      "|  Max_date|  Min_Date|\n",
      "+----------+----------+\n",
      "|2023-02-25|2017-08-11|\n",
      "+----------+----------+\n",
      "\n"
     ]
    }
   ],
   "source": [
    "Dates = spark.sql (\"\"\"\n",
    "select Max(Date) as Max_date , MIN(Date) as Min_Date from Matches\n",
    "\n",
    "\"\"\").show()\n",
    "2017-08-11\n",
    "2023-02-25"
   ]
  },
  {
   "cell_type": "markdown",
   "id": "0981ecd8-e2b0-4608-9c0b-482dacb1b861",
   "metadata": {},
   "source": [
    "##### Adding MatchID column to Matches DataFrame"
   ]
  },
  {
   "cell_type": "code",
   "execution_count": 14,
   "id": "4f16dfdf-546b-4243-8ed6-bd5d9c2b437c",
   "metadata": {},
   "outputs": [],
   "source": [
    "DimMatch= Matches.withColumn(\"MatchID\", monotonically_increasing_id())"
   ]
  },
  {
   "cell_type": "code",
   "execution_count": 15,
   "id": "a3b5fae8-fbb5-4c07-88d0-845df739a74c",
   "metadata": {},
   "outputs": [
    {
     "data": {
      "text/plain": [
       "['Season',\n",
       " 'Tour',\n",
       " 'Date',\n",
       " 'Time',\n",
       " 'Opponent',\n",
       " 'HoAw',\n",
       " 'ArsenalScore',\n",
       " 'OpponentScore',\n",
       " 'Stadium',\n",
       " 'Attendance',\n",
       " 'Coach',\n",
       " 'Referee',\n",
       " 'MatchID']"
      ]
     },
     "execution_count": 15,
     "metadata": {},
     "output_type": "execute_result"
    }
   ],
   "source": [
    "DimMatch.columns"
   ]
  },
  {
   "cell_type": "code",
   "execution_count": 15,
   "id": "10d6bb34-382c-4e1c-913f-aff8077170e9",
   "metadata": {},
   "outputs": [],
   "source": [
    "# DimMatch = DimMatch.drop('ArsenalScore',\n",
    "#  'OpponentScore',)"
   ]
  },
  {
   "cell_type": "code",
   "execution_count": 16,
   "id": "41822957-109d-405e-bd15-f09d48e45e10",
   "metadata": {},
   "outputs": [
    {
     "data": {
      "text/plain": [
       "['Season',\n",
       " 'Tour',\n",
       " 'Date',\n",
       " 'Time',\n",
       " 'Opponent',\n",
       " 'HoAw',\n",
       " 'ArsenalScore',\n",
       " 'OpponentScore',\n",
       " 'Stadium',\n",
       " 'Attendance',\n",
       " 'Coach',\n",
       " 'Referee',\n",
       " 'MatchID']"
      ]
     },
     "execution_count": 16,
     "metadata": {},
     "output_type": "execute_result"
    }
   ],
   "source": [
    "# For DimMatch with original format yyyy-M-d\n",
    "# DimMatch = DimMatch.withColumn(\"FormattedDate\", date_format(to_date(\"Date\", \"yyyy-M-d\"), \"yyyy-MM-dd\"))\n",
    "DimMatch.columns"
   ]
  },
  {
   "cell_type": "markdown",
   "id": "6479abda-b2e0-4529-9786-020190624c61",
   "metadata": {},
   "source": [
    "#### Loading the DimMatch for DWH Schema in ArsenalFC Database in Post"
   ]
  },
  {
   "cell_type": "code",
   "execution_count": 17,
   "id": "496a23f5-f113-418b-a0ac-3260a32400b7",
   "metadata": {},
   "outputs": [],
   "source": [
    "DimMatch.write.format(\"jdbc\") \\\n",
    "    .option(\"url\", \"jdbc:postgresql://postgres:5432/arsenalfc\") \\\n",
    "    .option(\"driver\", \"org.postgresql.Driver\") \\\n",
    "    .option(\"dbtable\", \"dwh.DimArsenalMatches\") \\\n",
    "    .option(\"user\", \"postgres\") \\\n",
    "    .option(\"password\", \"postgres\") \\\n",
    "    .mode(\"overwrite\") \\\n",
    "    .save()\n"
   ]
  },
  {
   "cell_type": "code",
   "execution_count": 139,
   "id": "137ed03a-d8b7-4a74-9d88-50ea5076ff39",
   "metadata": {},
   "outputs": [],
   "source": [
    "from pyspark.sql.functions import to_date, date_format\n",
    "\n",
    "# Assuming `DimMatch` is already loaded with the schema you provided\n",
    "\n",
    "# Update the `FormattedDate` in DimMatch to ensure it's in \"yyyy-MM-dd\" format\n",
    "# Adjust the format in to_date() according to the actual format of your 'Date' string if needed\n",
    "DimMatch = DimMatch.withColumn(\"FormattedDate\", date_format(to_date(\"Date\", \"yyyy-MM-dd\"), \"yyyy-MM-dd\"))\n"
   ]
  },
  {
   "cell_type": "code",
   "execution_count": 140,
   "id": "abc4bf98-4772-457c-86e2-543964e3ad98",
   "metadata": {},
   "outputs": [
    {
     "data": {
      "text/plain": [
       "StructType([StructField('Season', StringType(), True), StructField('Tour', StringType(), True), StructField('Date', DateType(), True), StructField('Time', StringType(), True), StructField('Opponent', StringType(), True), StructField('HoAw', StringType(), True), StructField('ArsenalScore', StringType(), True), StructField('OpponentScore', StringType(), True), StructField('Stadium', StringType(), True), StructField('Attendance', StringType(), True), StructField('Coach', StringType(), True), StructField('Referee', StringType(), True), StructField('MatchID', LongType(), False), StructField('FormattedDate', StringType(), True)])"
      ]
     },
     "execution_count": 140,
     "metadata": {},
     "output_type": "execute_result"
    }
   ],
   "source": [
    "DimMatch.schema"
   ]
  },
  {
   "cell_type": "markdown",
   "id": "6797b2cf-2b4b-4768-aecb-2356367b42d7",
   "metadata": {},
   "source": [
    "### Transforming Players Data & Creating the DimPlayers and Fact Players"
   ]
  },
  {
   "cell_type": "code",
   "execution_count": 141,
   "id": "946eca09-e459-4a76-b350-e3bdb9686e6e",
   "metadata": {},
   "outputs": [],
   "source": [
    "Players.createOrReplaceTempView(\"Players\")"
   ]
  },
  {
   "cell_type": "markdown",
   "id": "4509465b-c047-470b-9211-8ae56e4d8f26",
   "metadata": {},
   "source": [
    "#### Addomg fullname column to Players Table "
   ]
  },
  {
   "cell_type": "code",
   "execution_count": 142,
   "id": "c58af3c8-8201-4d72-b910-5af047e7687c",
   "metadata": {},
   "outputs": [
    {
     "name": "stdout",
     "output_type": "stream",
     "text": [
      "+-------------------+\n",
      "|           fullname|\n",
      "+-------------------+\n",
      "|    Hector Bellerin|\n",
      "|     Mohamed Elneny|\n",
      "|        Rob Holding|\n",
      "|     Sead Kolasinac|\n",
      "|Alexandre Lacazette|\n",
      "|      Nacho Monreal|\n",
      "|         Mesut Ozil|\n",
      "|      Danny Welbeck|\n",
      "|       Granit Xhaka|\n",
      "|       Aaron Ramsey|\n",
      "|    Hector Bellerin|\n",
      "|     Sead Kolasinac|\n",
      "|Alexandre Lacazette|\n",
      "|      Nacho Monreal|\n",
      "|   Shkodran Mustafi|\n",
      "|         Mesut Ozil|\n",
      "|       Aaron Ramsey|\n",
      "|      Danny Welbeck|\n",
      "|       Granit Xhaka|\n",
      "|         Alex Iwobi|\n",
      "+-------------------+\n",
      "only showing top 20 rows\n",
      "\n"
     ]
    }
   ],
   "source": [
    "spark.sql(\"\"\"\n",
    "    select concat(firstname, \" \", lastname) as fullname\n",
    "    from Players\n",
    "\n",
    "\"\"\").show()"
   ]
  },
  {
   "cell_type": "markdown",
   "id": "c928981e-0d73-4a34-992a-e28012c44a59",
   "metadata": {},
   "source": [
    "#### Checking all Distinct Players"
   ]
  },
  {
   "cell_type": "code",
   "execution_count": 143,
   "id": "4821157a-a64c-43a1-be84-e4d489281cb4",
   "metadata": {},
   "outputs": [
    {
     "name": "stdout",
     "output_type": "stream",
     "text": [
      "+----------------+\n",
      "|        fullname|\n",
      "+----------------+\n",
      "|Emile Smith Rowe|\n",
      "| Folarin Balogun|\n",
      "| Hector Bellerin|\n",
      "|     Joe Willock|\n",
      "|  William Saliba|\n",
      "|    Aaron Ramsey|\n",
      "|     Bukayo Saka|\n",
      "|  Kieran Tierney|\n",
      "|Shkodran Mustafi|\n",
      "| Daniel Ceballos|\n",
      "+----------------+\n",
      "only showing top 10 rows\n",
      "\n"
     ]
    }
   ],
   "source": [
    "distnict_players= spark.sql(\"\"\"\n",
    "    select distinct concat(firstname, \" \", lastname) as fullname\n",
    "    from Players\n",
    "\n",
    "\"\"\")\n",
    "distnict_players.show(10)"
   ]
  },
  {
   "cell_type": "markdown",
   "id": "feb87c77-da7d-4694-8764-9aacfb7fe9e1",
   "metadata": {},
   "source": [
    "#### Count the distinct date to check if it matche with DimMatches or not"
   ]
  },
  {
   "cell_type": "code",
   "execution_count": 144,
   "id": "c42caefc-b614-4b8f-b84b-1bf8bdebd4e7",
   "metadata": {},
   "outputs": [
    {
     "name": "stdout",
     "output_type": "stream",
     "text": [
      "+--------------------+\n",
      "|count(DISTINCT Date)|\n",
      "+--------------------+\n",
      "|                 214|\n",
      "+--------------------+\n",
      "\n"
     ]
    }
   ],
   "source": [
    "players_Dates= spark.sql(\"\"\"\n",
    "    select count(distinct Date) \n",
    "    from players\n",
    "\n",
    "\"\"\")\n",
    "players_Dates.show()"
   ]
  },
  {
   "cell_type": "markdown",
   "id": "9ae6bc35-56d6-4ae7-b74f-c1d2fd2f82e4",
   "metadata": {},
   "source": [
    "#### Adding New column to distinct Players as PlayerID"
   ]
  },
  {
   "cell_type": "code",
   "execution_count": 206,
   "id": "37aebfbf-c50a-4cbf-bfc3-7aef9fa0bac5",
   "metadata": {},
   "outputs": [],
   "source": [
    "distnict_players= distnict_players.withColumn(\"PlayerID\", monotonically_increasing_id())"
   ]
  },
  {
   "cell_type": "markdown",
   "id": "86800f88-a6e8-4e9f-a1f4-7f8da508c371",
   "metadata": {},
   "source": [
    "#### Adding fullname column to Player so we can create the DimPlayers joinig it with Distinct_Player Table"
   ]
  },
  {
   "cell_type": "code",
   "execution_count": 207,
   "id": "b4f00bd7-487c-49ce-b5cd-1b651c34957b",
   "metadata": {},
   "outputs": [
    {
     "name": "stdout",
     "output_type": "stream",
     "text": [
      "+-------------------+\n",
      "|fullname           |\n",
      "+-------------------+\n",
      "|Hector Bellerin    |\n",
      "|Mohamed Elneny     |\n",
      "|Rob Holding        |\n",
      "|Sead Kolasinac     |\n",
      "|Alexandre Lacazette|\n",
      "+-------------------+\n",
      "only showing top 5 rows\n",
      "\n"
     ]
    }
   ],
   "source": [
    "Players= Players.withColumn('fullname', concat_ws(\" \", col('FirstName'),col('LastName')))\n",
    "Players.select(\"fullname\").show(5, False)"
   ]
  },
  {
   "cell_type": "markdown",
   "id": "f553f0a0-ceb3-4fc1-9077-42e8c70e958b",
   "metadata": {},
   "source": [
    "#### Creating DimPlayers"
   ]
  },
  {
   "cell_type": "code",
   "execution_count": 208,
   "id": "c63a38e4-09c1-4f82-bb5b-167fe596b5f7",
   "metadata": {},
   "outputs": [
    {
     "data": {
      "text/plain": [
       "['fullname',\n",
       " 'LastName',\n",
       " 'FirstName',\n",
       " 'Date',\n",
       " 'Start',\n",
       " 'Pos',\n",
       " 'Min',\n",
       " 'G',\n",
       " 'A',\n",
       " 'PK',\n",
       " 'PKA',\n",
       " 'S',\n",
       " 'SoT',\n",
       " 'YK',\n",
       " 'RK',\n",
       " 'Touches',\n",
       " 'Tackles',\n",
       " 'Ints',\n",
       " 'Blocks',\n",
       " 'xG',\n",
       " 'npxG',\n",
       " 'xAG',\n",
       " 'Passes',\n",
       " 'PassesA',\n",
       " 'PrgPas',\n",
       " 'Carries',\n",
       " 'PrgCar',\n",
       " 'Line',\n",
       " 'C',\n",
       " 'PlayerID']"
      ]
     },
     "execution_count": 208,
     "metadata": {},
     "output_type": "execute_result"
    }
   ],
   "source": [
    "DimPlayers= Players.join(distnict_players, on ='fullname', how=\"inner\")\n",
    "DimPlayers.columns"
   ]
  },
  {
   "cell_type": "code",
   "execution_count": 209,
   "id": "443c6d97-17cc-4db2-a401-4b12ea16f99b",
   "metadata": {},
   "outputs": [],
   "source": [
    "# For DimPlayers with original format M/d/yyyy\n",
    "DimPlayers = DimPlayers.withColumn(\"FormattedDate\", date_format(to_date(\"Date\", \"M/d/yyyy\"), \"yyyy-MM-dd\"))\n"
   ]
  },
  {
   "cell_type": "code",
   "execution_count": 210,
   "id": "7246e1d8-acb9-445b-b8be-82838978927d",
   "metadata": {},
   "outputs": [
    {
     "name": "stdout",
     "output_type": "stream",
     "text": [
      "+-------+----+----------+--------+---------+----+------------+-------------+----------------+----------+-------------+---------+-------+-------------+\n",
      "| Season|Tour|      Date|    Time| Opponent|HoAw|ArsenalScore|OpponentScore|         Stadium|Attendance|        Coach|  Referee|MatchID|FormattedDate|\n",
      "+-------+----+----------+--------+---------+----+------------+-------------+----------------+----------+-------------+---------+-------+-------------+\n",
      "|2017/18|   1|2017-08-11|20:45:00|Leicester|home|           4|            3|Emirates Stadium|     59387|Arsène Wenger|Mike Dean|      0|   2017-08-11|\n",
      "+-------+----+----------+--------+---------+----+------------+-------------+----------------+----------+-------------+---------+-------+-------------+\n",
      "only showing top 1 row\n",
      "\n"
     ]
    }
   ],
   "source": [
    "DimMatch.show(1)"
   ]
  },
  {
   "cell_type": "markdown",
   "id": "2a69f06a-add0-4dc7-9f71-7864e91b6056",
   "metadata": {},
   "source": [
    "#### Creating the FactPlayers"
   ]
  },
  {
   "cell_type": "code",
   "execution_count": 211,
   "id": "dd842481-31a3-4eaa-8411-038736899b32",
   "metadata": {},
   "outputs": [],
   "source": [
    "# Convert 'Date' column from string to date type in DimMatch\n",
    "DimMatch = DimMatch.withColumn(\"Date\", to_date(\"Date\", \"yyyy-M-d\"))\n",
    "\n",
    "# Convert 'Date' column from string to date type in DimPlayers\n",
    "DimPlayers = DimPlayers.withColumn(\"Date\", to_date(\"Date\", \"yyyy-M-d\"))\n"
   ]
  },
  {
   "cell_type": "code",
   "execution_count": 212,
   "id": "5e6475b3-fa74-4766-aa03-a46904dc4b0e",
   "metadata": {},
   "outputs": [
    {
     "data": {
      "text/plain": [
       "StructType([StructField('fullname', StringType(), False), StructField('LastName', StringType(), True), StructField('FirstName', StringType(), True), StructField('Date', DateType(), True), StructField('Start', StringType(), True), StructField('Pos', StringType(), True), StructField('Min', StringType(), True), StructField('G', StringType(), True), StructField('A', StringType(), True), StructField('PK', StringType(), True), StructField('PKA', StringType(), True), StructField('S', StringType(), True), StructField('SoT', StringType(), True), StructField('YK', StringType(), True), StructField('RK', StringType(), True), StructField('Touches', StringType(), True), StructField('Tackles', StringType(), True), StructField('Ints', StringType(), True), StructField('Blocks', StringType(), True), StructField('xG', StringType(), True), StructField('npxG', StringType(), True), StructField('xAG', StringType(), True), StructField('Passes', StringType(), True), StructField('PassesA', StringType(), True), StructField('PrgPas', StringType(), True), StructField('Carries', StringType(), True), StructField('PrgCar', StringType(), True), StructField('Line', StringType(), True), StructField('C', StringType(), True), StructField('PlayerID', LongType(), False), StructField('FormattedDate', StringType(), True)])"
      ]
     },
     "execution_count": 212,
     "metadata": {},
     "output_type": "execute_result"
    }
   ],
   "source": [
    "DimPlayers.schema"
   ]
  },
  {
   "cell_type": "code",
   "execution_count": 213,
   "id": "62a7afb9-bf97-46a2-9c0d-a62f11079d7a",
   "metadata": {},
   "outputs": [
    {
     "name": "stdout",
     "output_type": "stream",
     "text": [
      "+-------------+-------+----+----------+--------+----------+----+------------+-------------+----------------+----------+-------------+--------------+-------+-------------------+---------+---------+----+-----+---+---+---+---+---+---+---+---+---+---+-------+-------+----+------+---+----+---+------+-------+------+-------+------+----------+---+--------+\n",
      "|FormattedDate| Season|Tour|      Date|    Time|  Opponent|HoAw|ArsenalScore|OpponentScore|         Stadium|Attendance|        Coach|       Referee|MatchID|           fullname| LastName|FirstName|Date|Start|Pos|Min|  G|  A| PK|PKA|  S|SoT| YK| RK|Touches|Tackles|Ints|Blocks| xG|npxG|xAG|Passes|PassesA|PrgPas|Carries|PrgCar|      Line|  C|PlayerID|\n",
      "+-------------+-------+----+----------+--------+----------+----+------------+-------------+----------------+----------+-------------+--------------+-------+-------------------+---------+---------+----+-----+---+---+---+---+---+---+---+---+---+---+-------+-------+----+------+---+----+---+------+-------+------+-------+------+----------+---+--------+\n",
      "|   2017-08-11|2017/18|   1|2017-08-11|20:45:00| Leicester|home|           4|            3|Emirates Stadium|     59387|Arsène Wenger|     Mike Dean|      0|    Hector Bellerin| Bellerin|   Hector|NULL|    1| WB| 90|  0|  0|  0|  0|  1|  1|  0|  0|     79|      3|   0|     0|0.3| 0.3|  0|    61|     70|     3|     51|     1|  Defender|  0|       2|\n",
      "|   2017-08-11|2017/18|   1|2017-08-11|20:45:00| Leicester|home|           4|            3|Emirates Stadium|     59387|Arsène Wenger|     Mike Dean|      0|       Aaron Ramsey|   Ramsey|    Aaron|NULL|    0| DM| 24|  1|  0|  0|  0|  4|  1|  0|  0|     19|      0|   0|     0|0.4| 0.4|  0|     9|     12|     1|     13|     0|Midfielder|  0|       5|\n",
      "|   2017-08-11|2017/18|   1|2017-08-11|20:45:00| Leicester|home|           4|            3|Emirates Stadium|     59387|Arsène Wenger|     Mike Dean|      0|Alexandre Lacazette|Lacazette|Alexandre|NULL|    1| FW| 90|  1|  0|  0|  0|  3|  2|  0|  0|     34|      2|   0|     1|0.3| 0.3|0.4|    20|     24|     3|     19|     1|   Forward|  0|      10|\n",
      "|   2017-08-11|2017/18|   1|2017-08-11|20:45:00| Leicester|home|           4|            3|Emirates Stadium|     59387|Arsène Wenger|     Mike Dean|      0|      Danny Welbeck|  Welbeck|    Danny|NULL|    1| AM| 74|  1|  0|  0|  0|  3|  1|  0|  0|     31|      1|   1|     0|  1|   1|0.4|    16|     21|     2|     18|     3|Midfielder|  0|      13|\n",
      "|   2017-08-11|2017/18|   1|2017-08-11|20:45:00| Leicester|home|           4|            3|Emirates Stadium|     59387|Arsène Wenger|     Mike Dean|      0|     Sead Kolasinac|Kolasinac|     Sead|NULL|    1| CB| 90|  0|  1|  0|  0|  1|  1|  0|  0|     81|      4|   1|     0|  0|   0|0.6|    59|     73|     9|     49|     7|  Defender|  0|      18|\n",
      "|   2017-08-11|2017/18|   1|2017-08-11|20:45:00| Leicester|home|           4|            3|Emirates Stadium|     59387|Arsène Wenger|     Mike Dean|      0|      Nacho Monreal|  Monreal|    Nacho|NULL|    1| CB| 90|  0|  0|  0|  0|  0|  0|  0|  0|     70|      2|   5|     0|  0|   0|  0|    54|     57|     3|     43|     1|  Defender|  0|      21|\n",
      "|   2017-08-11|2017/18|   1|2017-08-11|20:45:00| Leicester|home|           4|            3|Emirates Stadium|     59387|Arsène Wenger|     Mike Dean|      0|        Rob Holding|  Holding|      Rob|NULL|    1| CB| 66|  0|  0|  0|  0|  0|  0|  0|  0|     75|      1|   1|     0|  0|   0|  0|    50|     60|     4|     50|     1|  Defender|  0|      26|\n",
      "|   2017-08-11|2017/18|   1|2017-08-11|20:45:00| Leicester|home|           4|            3|Emirates Stadium|     59387|Arsène Wenger|     Mike Dean|      0|       Granit Xhaka|    Xhaka|   Granit|NULL|    1| CM| 90|  0|  2|  0|  0|  4|  1|  0|  0|    114|      1|   1|     1|0.1| 0.1|0.2|    86|    106|    20|     80|     4|Midfielder|  0|      44|\n",
      "|   2017-08-11|2017/18|   1|2017-08-11|20:45:00| Leicester|home|           4|            3|Emirates Stadium|     59387|Arsène Wenger|     Mike Dean|      0|     Mohamed Elneny|   Elneny|  Mohamed|NULL|    1| CM| 66|  0|  1|  0|  0|  1|  0|  0|  0|     82|      4|   0|     2|  0|   0|0.1|    65|     72|     4|     57|     0|Midfielder|  0|      49|\n",
      "|   2017-08-11|2017/18|   1|2017-08-11|20:45:00| Leicester|home|           4|            3|Emirates Stadium|     59387|Arsène Wenger|     Mike Dean|      0|         Mesut Ozil|     Ozil|    Mesut|NULL|    1| AM| 90|  0|  0|  0|  0|  3|  0|  0|  0|     95|      1|   0|     1|0.1| 0.1|0.6|    70|     86|     6|     69|     3|Midfielder|  0|      53|\n",
      "|   2017-08-19|2017/18|   2|2017-08-19|18:30:00|Stoke City|away|           0|            1|  bet365 Stadium|     29459|Arsène Wenger|Andre Marriner|      1|    Hector Bellerin| Bellerin|   Hector|NULL|    1| WB| 90|  0|  0|  0|  0|  2|  1|  0|  0|     83|      2|   0|     0|0.1| 0.1|  0|    66|     77|     6|     47|     2|  Defender|  0|       2|\n",
      "|   2017-08-19|2017/18|   2|2017-08-19|18:30:00|Stoke City|away|           0|            1|  bet365 Stadium|     29459|Arsène Wenger|Andre Marriner|      1|       Aaron Ramsey|   Ramsey|    Aaron|NULL|    1| CM| 90|  0|  0|  0|  0|  4|  2|  0|  0|     96|      3|   0|     1|0.5| 0.5|  0|    74|     85|    12|     73|     1|Midfielder|  0|       5|\n",
      "|   2017-08-19|2017/18|   2|2017-08-19|18:30:00|Stoke City|away|           0|            1|  bet365 Stadium|     29459|Arsène Wenger|Andre Marriner|      1|   Shkodran Mustafi|  Mustafi| Shkodran|NULL|    1| CB| 90|  0|  0|  0|  0|  1|  0|  0|  0|     95|      3|   1|     0|  0|   0|0.1|    76|     89|     6|     72|     3|  Defender|  0|       8|\n",
      "|   2017-08-19|2017/18|   2|2017-08-19|18:30:00|Stoke City|away|           0|            1|  bet365 Stadium|     29459|Arsène Wenger|Andre Marriner|      1|Alexandre Lacazette|Lacazette|Alexandre|NULL|    1| FW| 77|  0|  0|  0|  0|  0|  0|  0|  0|     47|      0|   0|     1|  0|   0|  0|    29|     39|     4|     28|     1|   Forward|  0|      10|\n",
      "|   2017-08-19|2017/18|   2|2017-08-19|18:30:00|Stoke City|away|           0|            1|  bet365 Stadium|     29459|Arsène Wenger|Andre Marriner|      1|      Danny Welbeck|  Welbeck|    Danny|NULL|    1| AM| 90|  0|  0|  0|  0|  3|  2|  0|  0|     32|      1|   0|     0|0.6| 0.6|  0|    19|     24|     2|     28|     3|Midfielder|  0|      13|\n",
      "|   2017-08-19|2017/18|   2|2017-08-19|18:30:00|Stoke City|away|           0|            1|  bet365 Stadium|     29459|Arsène Wenger|Andre Marriner|      1|     Sead Kolasinac|Kolasinac|     Sead|NULL|    1| CB| 65|  0|  0|  0|  0|  0|  0|  0|  0|     60|      0|   0|     0|  0|   0|  0|    52|     58|     5|     43|     2|  Defender|  0|      18|\n",
      "|   2017-08-19|2017/18|   2|2017-08-19|18:30:00|Stoke City|away|           0|            1|  bet365 Stadium|     29459|Arsène Wenger|Andre Marriner|      1|      Nacho Monreal|  Monreal|    Nacho|NULL|    1| CB| 90|  0|  0|  0|  0|  0|  0|  0|  0|     88|      3|   0|     0|  0|   0|0.1|    76|     83|     2|     61|     0|  Defender|  0|      21|\n",
      "|   2017-08-19|2017/18|   2|2017-08-19|18:30:00|Stoke City|away|           0|            1|  bet365 Stadium|     29459|Arsène Wenger|Andre Marriner|      1|       Granit Xhaka|    Xhaka|   Granit|NULL|    1| CM| 78|  0|  0|  0|  0|  2|  1|  0|  0|    113|      0|   3|     0|0.1| 0.1|0.1|    86|    106|    17|     85|     3|Midfielder|  0|      44|\n",
      "|   2017-08-19|2017/18|   2|2017-08-19|18:30:00|Stoke City|away|           0|            1|  bet365 Stadium|     29459|Arsène Wenger|Andre Marriner|      1|         Alex Iwobi|    Iwobi|     Alex|NULL|    0| DM| 12|  0|  0|  0|  0|  0|  0|  0|  0|     24|      1|   0|     0|  0|   0|  0|    22|     24|     6|     21|     2|Midfielder|  0|      50|\n",
      "|   2017-08-19|2017/18|   2|2017-08-19|18:30:00|Stoke City|away|           0|            1|  bet365 Stadium|     29459|Arsène Wenger|Andre Marriner|      1|         Mesut Ozil|     Ozil|    Mesut|NULL|    1| AM| 90|  0|  0|  0|  0|  2|  0|  0|  0|    106|      0|   0|     0|0.1| 0.1|0.5|    94|    103|    15|     84|     7|Midfielder|  0|      53|\n",
      "+-------------+-------+----+----------+--------+----------+----+------------+-------------+----------------+----------+-------------+--------------+-------+-------------------+---------+---------+----+-----+---+---+---+---+---+---+---+---+---+---+-------+-------+----+------+---+----+---+------+-------+------+-------+------+----------+---+--------+\n",
      "only showing top 20 rows\n",
      "\n"
     ]
    }
   ],
   "source": [
    "FactPlayers = DimMatch.join(DimPlayers, on='FormattedDate', how= 'left')\n",
    "FactPlayers.show()\n"
   ]
  },
  {
   "cell_type": "code",
   "execution_count": 214,
   "id": "d4899f54-5161-4bfb-a6d7-bb115be2048b",
   "metadata": {},
   "outputs": [],
   "source": [
    "FactPlayers = FactPlayers.drop('Date')"
   ]
  },
  {
   "cell_type": "code",
   "execution_count": 215,
   "id": "e18a83bd-63ac-4eac-bfd2-310d4f3c1908",
   "metadata": {},
   "outputs": [
    {
     "name": "stdout",
     "output_type": "stream",
     "text": [
      "+-------------+------+----+----+--------+----+------------+-------------+-------+----------+-----+-------+-------+--------+--------+---------+-----+---+---+---+---+---+---+---+---+---+---+-------+-------+----+------+---+----+---+------+-------+------+-------+------+----+---+--------+\n",
      "|FormattedDate|Season|Tour|Time|Opponent|HoAw|ArsenalScore|OpponentScore|Stadium|Attendance|Coach|Referee|MatchID|fullname|LastName|FirstName|Start|Pos|Min|  G|  A| PK|PKA|  S|SoT| YK| RK|Touches|Tackles|Ints|Blocks| xG|npxG|xAG|Passes|PassesA|PrgPas|Carries|PrgCar|Line|  C|PlayerID|\n",
      "+-------------+------+----+----+--------+----+------------+-------------+-------+----------+-----+-------+-------+--------+--------+---------+-----+---+---+---+---+---+---+---+---+---+---+-------+-------+----+------+---+----+---+------+-------+------+-------+------+----+---+--------+\n",
      "+-------------+------+----+----+--------+----+------------+-------------+-------+----------+-----+-------+-------+--------+--------+---------+-----+---+---+---+---+---+---+---+---+---+---+-------+-------+----+------+---+----+---+------+-------+------+-------+------+----+---+--------+\n",
      "\n"
     ]
    }
   ],
   "source": [
    "# Register the DataFrame as a temporary view\n",
    "FactPlayers.createOrReplaceTempView(\"fact_players\")\n",
    "\n",
    "# SQL query to select rows with any null values\n",
    "query = \"SELECT * FROM fact_players WHERE \" + ' OR '.join([f\"{col} IS NULL\" for col in FactPlayers.columns])\n",
    "\n",
    "# Execute the query\n",
    "rows_with_nulls_sql = spark.sql(query)\n",
    "\n",
    "rows_with_nulls_sql.show()\n"
   ]
  },
  {
   "cell_type": "code",
   "execution_count": 216,
   "id": "6385cebe-f30b-4995-9a3a-0da389c6255d",
   "metadata": {
    "scrolled": true
   },
   "outputs": [
    {
     "name": "stdout",
     "output_type": "stream",
     "text": [
      "+-------------+-------+----+--------+----------+----+------------+-------------+----------------+----------+-------------+--------------+-------+-------------------+---------+---------+-----+---+---+---+---+---+---+---+---+---+---+-------+-------+----+------+---+----+---+------+-------+------+-------+------+----------+---+--------+\n",
      "|FormattedDate| Season|Tour|    Time|  Opponent|HoAw|ArsenalScore|OpponentScore|         Stadium|Attendance|        Coach|       Referee|MatchID|           fullname| LastName|FirstName|Start|Pos|Min|  G|  A| PK|PKA|  S|SoT| YK| RK|Touches|Tackles|Ints|Blocks| xG|npxG|xAG|Passes|PassesA|PrgPas|Carries|PrgCar|      Line|  C|PlayerID|\n",
      "+-------------+-------+----+--------+----------+----+------------+-------------+----------------+----------+-------------+--------------+-------+-------------------+---------+---------+-----+---+---+---+---+---+---+---+---+---+---+-------+-------+----+------+---+----+---+------+-------+------+-------+------+----------+---+--------+\n",
      "|   2017-08-11|2017/18|   1|20:45:00| Leicester|home|           4|            3|Emirates Stadium|     59387|Arsène Wenger|     Mike Dean|      0|    Hector Bellerin| Bellerin|   Hector|    1| WB| 90|  0|  0|  0|  0|  1|  1|  0|  0|     79|      3|   0|     0|0.3| 0.3|  0|    61|     70|     3|     51|     1|  Defender|  0|       2|\n",
      "|   2017-08-11|2017/18|   1|20:45:00| Leicester|home|           4|            3|Emirates Stadium|     59387|Arsène Wenger|     Mike Dean|      0|       Aaron Ramsey|   Ramsey|    Aaron|    0| DM| 24|  1|  0|  0|  0|  4|  1|  0|  0|     19|      0|   0|     0|0.4| 0.4|  0|     9|     12|     1|     13|     0|Midfielder|  0|       5|\n",
      "|   2017-08-11|2017/18|   1|20:45:00| Leicester|home|           4|            3|Emirates Stadium|     59387|Arsène Wenger|     Mike Dean|      0|Alexandre Lacazette|Lacazette|Alexandre|    1| FW| 90|  1|  0|  0|  0|  3|  2|  0|  0|     34|      2|   0|     1|0.3| 0.3|0.4|    20|     24|     3|     19|     1|   Forward|  0|      10|\n",
      "|   2017-08-11|2017/18|   1|20:45:00| Leicester|home|           4|            3|Emirates Stadium|     59387|Arsène Wenger|     Mike Dean|      0|      Danny Welbeck|  Welbeck|    Danny|    1| AM| 74|  1|  0|  0|  0|  3|  1|  0|  0|     31|      1|   1|     0|  1|   1|0.4|    16|     21|     2|     18|     3|Midfielder|  0|      13|\n",
      "|   2017-08-11|2017/18|   1|20:45:00| Leicester|home|           4|            3|Emirates Stadium|     59387|Arsène Wenger|     Mike Dean|      0|     Sead Kolasinac|Kolasinac|     Sead|    1| CB| 90|  0|  1|  0|  0|  1|  1|  0|  0|     81|      4|   1|     0|  0|   0|0.6|    59|     73|     9|     49|     7|  Defender|  0|      18|\n",
      "|   2017-08-11|2017/18|   1|20:45:00| Leicester|home|           4|            3|Emirates Stadium|     59387|Arsène Wenger|     Mike Dean|      0|      Nacho Monreal|  Monreal|    Nacho|    1| CB| 90|  0|  0|  0|  0|  0|  0|  0|  0|     70|      2|   5|     0|  0|   0|  0|    54|     57|     3|     43|     1|  Defender|  0|      21|\n",
      "|   2017-08-11|2017/18|   1|20:45:00| Leicester|home|           4|            3|Emirates Stadium|     59387|Arsène Wenger|     Mike Dean|      0|        Rob Holding|  Holding|      Rob|    1| CB| 66|  0|  0|  0|  0|  0|  0|  0|  0|     75|      1|   1|     0|  0|   0|  0|    50|     60|     4|     50|     1|  Defender|  0|      26|\n",
      "|   2017-08-11|2017/18|   1|20:45:00| Leicester|home|           4|            3|Emirates Stadium|     59387|Arsène Wenger|     Mike Dean|      0|       Granit Xhaka|    Xhaka|   Granit|    1| CM| 90|  0|  2|  0|  0|  4|  1|  0|  0|    114|      1|   1|     1|0.1| 0.1|0.2|    86|    106|    20|     80|     4|Midfielder|  0|      44|\n",
      "|   2017-08-11|2017/18|   1|20:45:00| Leicester|home|           4|            3|Emirates Stadium|     59387|Arsène Wenger|     Mike Dean|      0|     Mohamed Elneny|   Elneny|  Mohamed|    1| CM| 66|  0|  1|  0|  0|  1|  0|  0|  0|     82|      4|   0|     2|  0|   0|0.1|    65|     72|     4|     57|     0|Midfielder|  0|      49|\n",
      "|   2017-08-11|2017/18|   1|20:45:00| Leicester|home|           4|            3|Emirates Stadium|     59387|Arsène Wenger|     Mike Dean|      0|         Mesut Ozil|     Ozil|    Mesut|    1| AM| 90|  0|  0|  0|  0|  3|  0|  0|  0|     95|      1|   0|     1|0.1| 0.1|0.6|    70|     86|     6|     69|     3|Midfielder|  0|      53|\n",
      "|   2017-08-19|2017/18|   2|18:30:00|Stoke City|away|           0|            1|  bet365 Stadium|     29459|Arsène Wenger|Andre Marriner|      1|    Hector Bellerin| Bellerin|   Hector|    1| WB| 90|  0|  0|  0|  0|  2|  1|  0|  0|     83|      2|   0|     0|0.1| 0.1|  0|    66|     77|     6|     47|     2|  Defender|  0|       2|\n",
      "|   2017-08-19|2017/18|   2|18:30:00|Stoke City|away|           0|            1|  bet365 Stadium|     29459|Arsène Wenger|Andre Marriner|      1|       Aaron Ramsey|   Ramsey|    Aaron|    1| CM| 90|  0|  0|  0|  0|  4|  2|  0|  0|     96|      3|   0|     1|0.5| 0.5|  0|    74|     85|    12|     73|     1|Midfielder|  0|       5|\n",
      "|   2017-08-19|2017/18|   2|18:30:00|Stoke City|away|           0|            1|  bet365 Stadium|     29459|Arsène Wenger|Andre Marriner|      1|   Shkodran Mustafi|  Mustafi| Shkodran|    1| CB| 90|  0|  0|  0|  0|  1|  0|  0|  0|     95|      3|   1|     0|  0|   0|0.1|    76|     89|     6|     72|     3|  Defender|  0|       8|\n",
      "|   2017-08-19|2017/18|   2|18:30:00|Stoke City|away|           0|            1|  bet365 Stadium|     29459|Arsène Wenger|Andre Marriner|      1|Alexandre Lacazette|Lacazette|Alexandre|    1| FW| 77|  0|  0|  0|  0|  0|  0|  0|  0|     47|      0|   0|     1|  0|   0|  0|    29|     39|     4|     28|     1|   Forward|  0|      10|\n",
      "|   2017-08-19|2017/18|   2|18:30:00|Stoke City|away|           0|            1|  bet365 Stadium|     29459|Arsène Wenger|Andre Marriner|      1|      Danny Welbeck|  Welbeck|    Danny|    1| AM| 90|  0|  0|  0|  0|  3|  2|  0|  0|     32|      1|   0|     0|0.6| 0.6|  0|    19|     24|     2|     28|     3|Midfielder|  0|      13|\n",
      "|   2017-08-19|2017/18|   2|18:30:00|Stoke City|away|           0|            1|  bet365 Stadium|     29459|Arsène Wenger|Andre Marriner|      1|     Sead Kolasinac|Kolasinac|     Sead|    1| CB| 65|  0|  0|  0|  0|  0|  0|  0|  0|     60|      0|   0|     0|  0|   0|  0|    52|     58|     5|     43|     2|  Defender|  0|      18|\n",
      "|   2017-08-19|2017/18|   2|18:30:00|Stoke City|away|           0|            1|  bet365 Stadium|     29459|Arsène Wenger|Andre Marriner|      1|      Nacho Monreal|  Monreal|    Nacho|    1| CB| 90|  0|  0|  0|  0|  0|  0|  0|  0|     88|      3|   0|     0|  0|   0|0.1|    76|     83|     2|     61|     0|  Defender|  0|      21|\n",
      "|   2017-08-19|2017/18|   2|18:30:00|Stoke City|away|           0|            1|  bet365 Stadium|     29459|Arsène Wenger|Andre Marriner|      1|       Granit Xhaka|    Xhaka|   Granit|    1| CM| 78|  0|  0|  0|  0|  2|  1|  0|  0|    113|      0|   3|     0|0.1| 0.1|0.1|    86|    106|    17|     85|     3|Midfielder|  0|      44|\n",
      "|   2017-08-19|2017/18|   2|18:30:00|Stoke City|away|           0|            1|  bet365 Stadium|     29459|Arsène Wenger|Andre Marriner|      1|         Alex Iwobi|    Iwobi|     Alex|    0| DM| 12|  0|  0|  0|  0|  0|  0|  0|  0|     24|      1|   0|     0|  0|   0|  0|    22|     24|     6|     21|     2|Midfielder|  0|      50|\n",
      "|   2017-08-19|2017/18|   2|18:30:00|Stoke City|away|           0|            1|  bet365 Stadium|     29459|Arsène Wenger|Andre Marriner|      1|         Mesut Ozil|     Ozil|    Mesut|    1| AM| 90|  0|  0|  0|  0|  2|  0|  0|  0|    106|      0|   0|     0|0.1| 0.1|0.5|    94|    103|    15|     84|     7|Midfielder|  0|      53|\n",
      "+-------------+-------+----+--------+----------+----+------------+-------------+----------------+----------+-------------+--------------+-------+-------------------+---------+---------+-----+---+---+---+---+---+---+---+---+---+---+-------+-------+----+------+---+----+---+------+-------+------+-------+------+----------+---+--------+\n",
      "only showing top 20 rows\n",
      "\n"
     ]
    }
   ],
   "source": [
    "FactPlayers.show()"
   ]
  },
  {
   "cell_type": "code",
   "execution_count": 217,
   "id": "667b721e-3215-4d1e-b675-df6538c2db70",
   "metadata": {},
   "outputs": [],
   "source": [
    "FactPlayers = FactPlayers.drop('Season',\n",
    " 'Tour',\n",
    " 'Time',\n",
    " 'Opponent',\n",
    " 'HoAw',\n",
    " 'Stadium','Coach',\n",
    " 'Referee',\n",
    "   'fullname',\n",
    " 'LastName',\n",
    " 'FirstName','Line')"
   ]
  },
  {
   "cell_type": "code",
   "execution_count": 218,
   "id": "5a278386-ccf0-4080-b6cf-673549185974",
   "metadata": {},
   "outputs": [
    {
     "data": {
      "text/plain": [
       "['FormattedDate',\n",
       " 'ArsenalScore',\n",
       " 'OpponentScore',\n",
       " 'Attendance',\n",
       " 'MatchID',\n",
       " 'Start',\n",
       " 'Pos',\n",
       " 'Min',\n",
       " 'G',\n",
       " 'A',\n",
       " 'PK',\n",
       " 'PKA',\n",
       " 'S',\n",
       " 'SoT',\n",
       " 'YK',\n",
       " 'RK',\n",
       " 'Touches',\n",
       " 'Tackles',\n",
       " 'Ints',\n",
       " 'Blocks',\n",
       " 'xG',\n",
       " 'npxG',\n",
       " 'xAG',\n",
       " 'Passes',\n",
       " 'PassesA',\n",
       " 'PrgPas',\n",
       " 'Carries',\n",
       " 'PrgCar',\n",
       " 'C',\n",
       " 'PlayerID']"
      ]
     },
     "execution_count": 218,
     "metadata": {},
     "output_type": "execute_result"
    }
   ],
   "source": [
    "FactPlayers.columns"
   ]
  },
  {
   "cell_type": "markdown",
   "id": "2b3f2d67-8328-46b1-813c-e2b529b4da47",
   "metadata": {},
   "source": [
    "#### Loading the FactPlayers for DWH Schema in ArsenalFC Database in PostgreSql"
   ]
  },
  {
   "cell_type": "code",
   "execution_count": 219,
   "id": "1e50c8af-e92c-403f-8725-cd377ff49153",
   "metadata": {},
   "outputs": [],
   "source": [
    "FactPlayers.write.format(\"jdbc\") \\\n",
    "    .option(\"url\", \"jdbc:postgresql://postgres:5432/arsenalfc\") \\\n",
    "    .option(\"driver\", \"org.postgresql.Driver\") \\\n",
    "    .option(\"dbtable\", \"dwh.FactArsenalPlayers\") \\\n",
    "    .option(\"user\", \"postgres\") \\\n",
    "    .option(\"password\", \"postgres\") \\\n",
    "    .mode(\"overwrite\") \\\n",
    "    .save()\n"
   ]
  },
  {
   "cell_type": "code",
   "execution_count": 220,
   "id": "de07978d-4a94-4558-90fe-7f809326f173",
   "metadata": {},
   "outputs": [
    {
     "data": {
      "text/plain": [
       "['fullname',\n",
       " 'LastName',\n",
       " 'FirstName',\n",
       " 'Date',\n",
       " 'Start',\n",
       " 'Pos',\n",
       " 'Min',\n",
       " 'G',\n",
       " 'A',\n",
       " 'PK',\n",
       " 'PKA',\n",
       " 'S',\n",
       " 'SoT',\n",
       " 'YK',\n",
       " 'RK',\n",
       " 'Touches',\n",
       " 'Tackles',\n",
       " 'Ints',\n",
       " 'Blocks',\n",
       " 'xG',\n",
       " 'npxG',\n",
       " 'xAG',\n",
       " 'Passes',\n",
       " 'PassesA',\n",
       " 'PrgPas',\n",
       " 'Carries',\n",
       " 'PrgCar',\n",
       " 'Line',\n",
       " 'C',\n",
       " 'PlayerID',\n",
       " 'FormattedDate']"
      ]
     },
     "execution_count": 220,
     "metadata": {},
     "output_type": "execute_result"
    }
   ],
   "source": [
    "DimPlayers.columns"
   ]
  },
  {
   "cell_type": "code",
   "execution_count": 221,
   "id": "73f17147-f0e5-42b5-aa6b-ae1c26a77cd1",
   "metadata": {},
   "outputs": [],
   "source": [
    "DimPlayers= DimPlayers.drop('Date',\n",
    " 'Start',\n",
    " 'Min',\n",
    " 'G',\n",
    " 'A',\n",
    " 'PK',\n",
    " 'PKA',\n",
    " 'S',\n",
    " 'SoT',\n",
    " 'YK',\n",
    " 'RK',\n",
    " 'Touches',\n",
    " 'Tackles',\n",
    " 'Ints',\n",
    " 'Blocks',\n",
    " 'xG',\n",
    " 'npxG',\n",
    " 'xAG',\n",
    " 'Passes',\n",
    " 'PassesA',\n",
    " 'PrgPas',\n",
    " 'Carries',\n",
    " 'PrgCar',\n",
    " 'Line',\n",
    " 'C','FormattedDate', 'Pos')\n",
    "\n"
   ]
  },
  {
   "cell_type": "code",
   "execution_count": 222,
   "id": "17652407-d7d7-4e4b-bede-129b8f4e0409",
   "metadata": {},
   "outputs": [],
   "source": [
    "DimPlayers.createOrReplaceTempView(\"DimPlayers\")"
   ]
  },
  {
   "cell_type": "code",
   "execution_count": 223,
   "id": "f7fa39f8-2ad7-4c8c-b9df-a05f67d6a995",
   "metadata": {},
   "outputs": [
    {
     "data": {
      "text/plain": [
       "['fullname', 'LastName', 'FirstName', 'PlayerID']"
      ]
     },
     "execution_count": 223,
     "metadata": {},
     "output_type": "execute_result"
    }
   ],
   "source": [
    "DimPlayers.columns"
   ]
  },
  {
   "cell_type": "code",
   "execution_count": 224,
   "id": "8ae34b5f-e23b-4bcc-be48-9cfd27f217df",
   "metadata": {},
   "outputs": [
    {
     "name": "stdout",
     "output_type": "stream",
     "text": [
      "+----------------+----------+---------+--------+\n",
      "|        fullname|  LastName|FirstName|PlayerID|\n",
      "+----------------+----------+---------+--------+\n",
      "|Emile Smith Rowe|Smith Rowe|    Emile|       0|\n",
      "|Emile Smith Rowe|Smith Rowe|    Emile|       0|\n",
      "|Emile Smith Rowe|Smith Rowe|    Emile|       0|\n",
      "|Emile Smith Rowe|Smith Rowe|    Emile|       0|\n",
      "|Emile Smith Rowe|Smith Rowe|    Emile|       0|\n",
      "|Emile Smith Rowe|Smith Rowe|    Emile|       0|\n",
      "|Emile Smith Rowe|Smith Rowe|    Emile|       0|\n",
      "|Emile Smith Rowe|Smith Rowe|    Emile|       0|\n",
      "|Emile Smith Rowe|Smith Rowe|    Emile|       0|\n",
      "|Emile Smith Rowe|Smith Rowe|    Emile|       0|\n",
      "|Emile Smith Rowe|Smith Rowe|    Emile|       0|\n",
      "|Emile Smith Rowe|Smith Rowe|    Emile|       0|\n",
      "|Emile Smith Rowe|Smith Rowe|    Emile|       0|\n",
      "|Emile Smith Rowe|Smith Rowe|    Emile|       0|\n",
      "|Emile Smith Rowe|Smith Rowe|    Emile|       0|\n",
      "|Emile Smith Rowe|Smith Rowe|    Emile|       0|\n",
      "|Emile Smith Rowe|Smith Rowe|    Emile|       0|\n",
      "|Emile Smith Rowe|Smith Rowe|    Emile|       0|\n",
      "|Emile Smith Rowe|Smith Rowe|    Emile|       0|\n",
      "|Emile Smith Rowe|Smith Rowe|    Emile|       0|\n",
      "+----------------+----------+---------+--------+\n",
      "only showing top 20 rows\n",
      "\n"
     ]
    }
   ],
   "source": [
    "DimPlayers.show()"
   ]
  },
  {
   "cell_type": "markdown",
   "id": "8cc74b52-4d66-49bb-9584-178804d73508",
   "metadata": {},
   "source": [
    "#### Loading the DimPlayers for DWH Schema in ArsenalFC Database in PostgreSql"
   ]
  },
  {
   "cell_type": "code",
   "execution_count": 229,
   "id": "724dfb2f-c148-4b95-9cee-a71b8bbd4545",
   "metadata": {},
   "outputs": [],
   "source": [
    "DimPlayers.write.format(\"jdbc\") \\\n",
    "    .option(\"url\", \"jdbc:postgresql://postgres:5432/arsenalfc\") \\\n",
    "    .option(\"driver\", \"org.postgresql.Driver\") \\\n",
    "    .option(\"dbtable\", \"dwh.DimArsenalPlayers\") \\\n",
    "    .option(\"user\", \"postgres\") \\\n",
    "    .option(\"password\", \"postgres\") \\\n",
    "    .mode(\"overwrite\") \\\n",
    "    .save()\n"
   ]
  },
  {
   "cell_type": "markdown",
   "id": "b38200e6-398c-44d5-a6b4-a514379f6731",
   "metadata": {},
   "source": [
    "### Dim GoalKeepers"
   ]
  },
  {
   "cell_type": "code",
   "execution_count": 174,
   "id": "f6724016-6186-4e4b-a46b-f94bdc11cf53",
   "metadata": {},
   "outputs": [],
   "source": [
    "GoalKeepers.createOrReplaceTempView(\"GK\")"
   ]
  },
  {
   "cell_type": "markdown",
   "id": "21c6c470-c84f-49e9-852e-a3893aa41e3c",
   "metadata": {},
   "source": [
    "#### Adding fullname to GoalKeepers so we can Join later creating the DimGoalKeepers"
   ]
  },
  {
   "cell_type": "code",
   "execution_count": 175,
   "id": "f117ab5c-d91d-4076-af7a-fae63c55e5e9",
   "metadata": {},
   "outputs": [],
   "source": [
    "GoalKeepers= GoalKeepers.withColumn('fullname', concat_ws(\" \", col('FirstName'),col('LastName')))\n",
    "# GoalKeepers.select(\"fullname\").show(5, False)"
   ]
  },
  {
   "cell_type": "code",
   "execution_count": 176,
   "id": "43c67916-104d-4458-a9f4-6d65685c6cc1",
   "metadata": {},
   "outputs": [
    {
     "data": {
      "text/plain": [
       "['LastName',\n",
       " 'FirstName',\n",
       " 'Date',\n",
       " 'Start',\n",
       " 'Pos',\n",
       " 'Min',\n",
       " 'SoTA',\n",
       " 'GA',\n",
       " 'Saves',\n",
       " 'PSxG',\n",
       " 'PKatt',\n",
       " 'PKA',\n",
       " 'PKm',\n",
       " 'PassAtt',\n",
       " 'Throws',\n",
       " 'AvgLen',\n",
       " 'GKAtt',\n",
       " 'GKAvgLen',\n",
       " 'C',\n",
       " 'fullname']"
      ]
     },
     "execution_count": 176,
     "metadata": {},
     "output_type": "execute_result"
    }
   ],
   "source": [
    "GoalKeepers.columns"
   ]
  },
  {
   "cell_type": "code",
   "execution_count": 177,
   "id": "3c25a732-b06b-41aa-bb22-1bb918ab3db7",
   "metadata": {},
   "outputs": [],
   "source": [
    "GoalKeepers_f = spark.sql(\"\"\"\n",
    "    select distinct concat(firstname, \" \", lastname) as fullname\n",
    "    from GK\n",
    "\n",
    "\"\"\")\n"
   ]
  },
  {
   "cell_type": "code",
   "execution_count": 178,
   "id": "a3ae4f49-4e14-479f-9cb9-56f55c01f7d7",
   "metadata": {},
   "outputs": [
    {
     "data": {
      "text/plain": [
       "['fullname']"
      ]
     },
     "execution_count": 178,
     "metadata": {},
     "output_type": "execute_result"
    }
   ],
   "source": [
    "GoalKeepers_f.columns"
   ]
  },
  {
   "cell_type": "code",
   "execution_count": 179,
   "id": "4b5db9c6-e5f9-46e7-b67a-5f37f6ea9167",
   "metadata": {},
   "outputs": [],
   "source": [
    "GK_ = spark.sql (\"\"\"\n",
    "select Count(fullname) from GK\n",
    "\"\"\")\n",
    "\n"
   ]
  },
  {
   "cell_type": "code",
   "execution_count": 180,
   "id": "734c3079-637e-4c66-964b-3112a650edee",
   "metadata": {},
   "outputs": [
    {
     "name": "stdout",
     "output_type": "stream",
     "text": [
      "+-----------------+\n",
      "|         fullname|\n",
      "+-----------------+\n",
      "|Emiliano Martinez|\n",
      "|   Aaron Ramsdale|\n",
      "|       Bernd Leno|\n",
      "|        Petr Cech|\n",
      "|  Runar Runarsson|\n",
      "|      Mathew Ryan|\n",
      "|     David Ospina|\n",
      "+-----------------+\n",
      "\n"
     ]
    }
   ],
   "source": [
    "GoalKeepers_f.show()"
   ]
  },
  {
   "cell_type": "code",
   "execution_count": 181,
   "id": "f0019223-63df-4516-95fb-44f3fb492f16",
   "metadata": {},
   "outputs": [],
   "source": [
    "GoalKeepers_f= GoalKeepers_f.withColumn('GkID',monotonically_increasing_id()+1)\n"
   ]
  },
  {
   "cell_type": "code",
   "execution_count": 182,
   "id": "9d967a5b-c2c1-4ea6-9cac-e06d7c1d49de",
   "metadata": {},
   "outputs": [],
   "source": [
    "DimGoalKeepers= GoalKeepers.join(GoalKeepers_f, on ='fullname', how=\"inner\")"
   ]
  },
  {
   "cell_type": "code",
   "execution_count": 183,
   "id": "88964b0e-9e2c-4458-ab7d-76d71e37eb04",
   "metadata": {},
   "outputs": [
    {
     "data": {
      "text/plain": [
       "['fullname',\n",
       " 'LastName',\n",
       " 'FirstName',\n",
       " 'Date',\n",
       " 'Start',\n",
       " 'Pos',\n",
       " 'Min',\n",
       " 'SoTA',\n",
       " 'GA',\n",
       " 'Saves',\n",
       " 'PSxG',\n",
       " 'PKatt',\n",
       " 'PKA',\n",
       " 'PKm',\n",
       " 'PassAtt',\n",
       " 'Throws',\n",
       " 'AvgLen',\n",
       " 'GKAtt',\n",
       " 'GKAvgLen',\n",
       " 'C',\n",
       " 'GkID']"
      ]
     },
     "execution_count": 183,
     "metadata": {},
     "output_type": "execute_result"
    }
   ],
   "source": [
    "DimGoalKeepers.columns"
   ]
  },
  {
   "cell_type": "code",
   "execution_count": 184,
   "id": "f6bc483c-fdfc-43d6-b1a8-c77d4cdf4e5b",
   "metadata": {},
   "outputs": [],
   "source": [
    "DimGoalKeepers = DimGoalKeepers.withColumn(\"FormattedDate\", date_format(to_date(\"Date\", \"M/d/yyyy\"), \"yyyy-MM-dd\"))\n"
   ]
  },
  {
   "cell_type": "code",
   "execution_count": 185,
   "id": "36fac6bb-a320-4a99-9191-ab216df51d4a",
   "metadata": {},
   "outputs": [
    {
     "name": "stdout",
     "output_type": "stream",
     "text": [
      "+-----------------+--------+---------+---------+-----+---+---+----+---+-----+----+-----+---+---+-------+------+------+-----+--------+---+----+-------------+\n",
      "|         fullname|LastName|FirstName|     Date|Start|Pos|Min|SoTA| GA|Saves|PSxG|PKatt|PKA|PKm|PassAtt|Throws|AvgLen|GKAtt|GKAvgLen|  C|GkID|FormattedDate|\n",
      "+-----------------+--------+---------+---------+-----+---+---+----+---+-----+----+-----+---+---+-------+------+------+-----+--------+---+----+-------------+\n",
      "|Emiliano Martinez|Martinez| Emiliano|7/26/2020|    1| GK| 90|   6|  2|    4| 3.1|    1|  1|  0|     26|     8|  29.9|    7|    41.6|  0|   1|   2020-07-26|\n",
      "|Emiliano Martinez|Martinez| Emiliano|7/21/2020|    1| GK| 90|   3|  1|    2| 0.2|    0|  0|  0|     20|     5|  17.6|    5|      15|  0|   1|   2020-07-21|\n",
      "|Emiliano Martinez|Martinez| Emiliano|7/15/2020|    1| GK| 90|   8|  1|    7|   2|    0|  0|  0|     32|     7|    40|   15|    51.1|  0|   1|   2020-07-15|\n",
      "|Emiliano Martinez|Martinez| Emiliano|7/12/2020|    1| GK| 90|   9|  2|    7| 3.1|    0|  0|  0|     33|     8|  20.9|    4|      18|  0|   1|   2020-07-12|\n",
      "|Emiliano Martinez|Martinez| Emiliano| 7/7/2020|    1| GK| 90|   5|  1|    4|   1|    0|  0|  0|     25|     5|  42.2|    2|    27.5|  0|   1|   2020-07-07|\n",
      "|Emiliano Martinez|Martinez| Emiliano| 7/4/2020|    1| GK| 90|   1|  0|    1| 0.2|    0|  0|  0|     28|     4|  31.9|    9|    23.7|  0|   1|   2020-07-04|\n",
      "|Emiliano Martinez|Martinez| Emiliano| 7/1/2020|    1| GK| 90|   2|  0|    2| 0.5|    0|  0|  0|     16|     1|  31.3|    6|      59|  0|   1|   2020-07-01|\n",
      "|Emiliano Martinez|Martinez| Emiliano|6/25/2020|    1| GK| 90|   3|  0|    3| 0.1|    0|  0|  0|     31|     6|  36.4|   10|      50|  0|   1|   2020-06-25|\n",
      "|Emiliano Martinez|Martinez| Emiliano|6/20/2020|    0| GK| 51|   5|  2|    3| 1.6|    0|  0|  0|     21|     4|    29|    3|      42|  0|   1|   2020-06-20|\n",
      "|   Aaron Ramsdale|Ramsdale|    Aaron|5/22/2022|    1| GK| 90|   2|  1|    1|   1|    0|  0|  0|     19|     2|  26.9|    5|      16|  0|   2|   2022-05-22|\n",
      "|   Aaron Ramsdale|Ramsdale|    Aaron|5/16/2022|    1| GK| 90|   4|  2|    3| 2.4|    0|  0|  0|     30|     5|  38.4|    9|    66.7|  0|   2|   2022-05-16|\n",
      "|   Aaron Ramsdale|Ramsdale|    Aaron|5/12/2022|    1| GK| 90|   6|  3|    3| 2.5|    1|  1|  0|     33|     2|  37.8|    7|      67|  0|   2|   2022-05-12|\n",
      "|   Aaron Ramsdale|Ramsdale|    Aaron| 5/8/2022|    1| GK| 90|   2|  1|    1| 0.4|    0|  0|  0|     24|     4|  29.8|    1|      71|  0|   2|   2022-05-08|\n",
      "|   Aaron Ramsdale|Ramsdale|    Aaron| 5/1/2022|    1| GK| 90|   3|  1|    2| 0.6|    0|  0|  0|     16|     4|  39.5|    6|    50.2|  0|   2|   2022-05-01|\n",
      "|   Aaron Ramsdale|Ramsdale|    Aaron|4/23/2022|    1| GK| 90|   5|  1|    4|   2|    1|  0|  1|     39|     5|  30.1|    8|    62.8|  0|   2|   2022-04-23|\n",
      "|   Aaron Ramsdale|Ramsdale|    Aaron|4/20/2022|    1| GK| 90|   2|  2|    0| 0.5|    0|  0|  0|     17|     2|  42.3|    8|    57.4|  0|   2|   2022-04-20|\n",
      "|   Aaron Ramsdale|Ramsdale|    Aaron|4/16/2022|    1| GK| 90|   3|  1|    2| 0.6|    0|  0|  0|     39|     8|  24.5|    2|       6|  0|   2|   2022-04-16|\n",
      "|   Aaron Ramsdale|Ramsdale|    Aaron| 4/9/2022|    1| GK| 90|   3|  2|    1| 1.4|    0|  0|  0|     23|     4|  22.7|    3|    12.3|  0|   2|   2022-04-09|\n",
      "|   Aaron Ramsdale|Ramsdale|    Aaron| 4/4/2022|    1| GK| 90|   5|  3|    2|   2|    1|  1|  0|     30|     3|  29.3|    5|    26.8|  0|   2|   2022-04-04|\n",
      "|   Aaron Ramsdale|Ramsdale|    Aaron|3/16/2022|    1| GK| 90|   3|  2|    1| 1.1|    0|  0|  0|     30|     3|  39.3|    6|    70.5|  0|   2|   2022-03-16|\n",
      "+-----------------+--------+---------+---------+-----+---+---+----+---+-----+----+-----+---+---+-------+------+------+-----+--------+---+----+-------------+\n",
      "only showing top 20 rows\n",
      "\n"
     ]
    }
   ],
   "source": [
    "DimGoalKeepers.show()"
   ]
  },
  {
   "cell_type": "markdown",
   "id": "c12f7cb6-e253-4d36-a30b-52ea24a0edb6",
   "metadata": {},
   "source": [
    "#### Creating FactGoalKeepers"
   ]
  },
  {
   "cell_type": "code",
   "execution_count": 186,
   "id": "c96cdc15-6285-411c-8e75-4ef60096c48b",
   "metadata": {},
   "outputs": [
    {
     "data": {
      "text/plain": [
       "['FormattedDate',\n",
       " 'Season',\n",
       " 'Tour',\n",
       " 'Date',\n",
       " 'Time',\n",
       " 'Opponent',\n",
       " 'HoAw',\n",
       " 'ArsenalScore',\n",
       " 'OpponentScore',\n",
       " 'Stadium',\n",
       " 'Attendance',\n",
       " 'Coach',\n",
       " 'Referee',\n",
       " 'MatchID',\n",
       " 'fullname',\n",
       " 'LastName',\n",
       " 'FirstName',\n",
       " 'Date',\n",
       " 'Start',\n",
       " 'Pos',\n",
       " 'Min',\n",
       " 'SoTA',\n",
       " 'GA',\n",
       " 'Saves',\n",
       " 'PSxG',\n",
       " 'PKatt',\n",
       " 'PKA',\n",
       " 'PKm',\n",
       " 'PassAtt',\n",
       " 'Throws',\n",
       " 'AvgLen',\n",
       " 'GKAtt',\n",
       " 'GKAvgLen',\n",
       " 'C',\n",
       " 'GkID']"
      ]
     },
     "execution_count": 186,
     "metadata": {},
     "output_type": "execute_result"
    }
   ],
   "source": [
    "FactGk = DimMatch.join(DimGoalKeepers, on='FormattedDate', how='left')\n",
    "FactGk.columns"
   ]
  },
  {
   "cell_type": "code",
   "execution_count": 127,
   "id": "3d8a6626-efc3-45f4-b879-c44503ae257f",
   "metadata": {},
   "outputs": [
    {
     "name": "stdout",
     "output_type": "stream",
     "text": [
      "+-------------+-------+----+----------+--------+--------------+----+------------+-------------+-----------------+----------+-------------+---------------+-------+---------+--------+---------+----------+-----+---+---+----+---+-----+----+-----+---+---+-------+------+------+-----+--------+---+----+\n",
      "|FormattedDate| Season|Tour|      Date|    Time|      Opponent|HoAw|ArsenalScore|OpponentScore|          Stadium|Attendance|        Coach|        Referee|MatchID| fullname|LastName|FirstName|      Date|Start|Pos|Min|SoTA| GA|Saves|PSxG|PKatt|PKA|PKm|PassAtt|Throws|AvgLen|GKAtt|GKAvgLen|  C|GkID|\n",
      "+-------------+-------+----+----------+--------+--------------+----+------------+-------------+-----------------+----------+-------------+---------------+-------+---------+--------+---------+----------+-----+---+---+----+---+-----+----+-----+---+---+-------+------+------+-----+--------+---+----+\n",
      "|   2017-08-11|2017/18|   1|2017-08-11|20:45:00|     Leicester|home|           4|            3| Emirates Stadium|     59387|Arsène Wenger|      Mike Dean|      0|Petr Cech|    Cech|     Petr| 8/11/2017|    1| GK| 90|   3|  3|    0| 2.1|    0|  0|  0|     17|     3|  30.8|    6|    28.3|  1|   4|\n",
      "|   2017-08-19|2017/18|   2|2017-08-19|18:30:00|    Stoke City|away|           0|            1|   bet365 Stadium|     29459|Arsène Wenger| Andre Marriner|      1|Petr Cech|    Cech|     Petr| 8/19/2017|    1| GK| 90|   4|  1|    3|   1|    0|  0|  0|     17|     6|  25.2|    7|    29.1|  1|   4|\n",
      "|   2017-08-27|2017/18|   3|2017-08-27|17:00:00|     Liverpool|away|           0|            4|          Anfield|     53206|Arsène Wenger|   Craig Pawson|      2|Petr Cech|    Cech|     Petr| 8/27/2017|    1| GK| 90|  10|  4|    6| 4.4|    0|  0|  0|     20|     9|  29.7|    8|      52|  0|   4|\n",
      "|   2017-09-09|2017/18|   4|2017-09-09|16:00:00|   Bournemouth|home|           3|            0| Emirates Stadium|     59262|Arsène Wenger| Anthony Taylor|      3|Petr Cech|    Cech|     Petr|  9/9/2017|    1| GK| 90|   2|  0|    2| 0.6|    0|  0|  0|     29|     2|  43.7|    5|    60.2|  0|   4|\n",
      "|   2017-09-17|2017/18|   5|2017-09-17|14:30:00|       Chelsea|away|           0|            0|  Stamford Bridge|     41478|Arsène Wenger| Michael Oliver|      4|Petr Cech|    Cech|     Petr| 9/17/2017|    1| GK| 90|   4|  0|    4| 0.5|    0|  0|  0|     28|     7|  42.6|    9|    35.7|  0|   4|\n",
      "|   2017-09-25|2017/18|   6|2017-09-25|21:00:00|     West Brom|home|           2|            0| Emirates Stadium|     59134|Arsène Wenger|   Bobby Madley|      5|Petr Cech|    Cech|     Petr| 9/25/2017|    1| GK| 90|   2|  0|    2| 0.3|    0|  0|  0|     22|     8|  29.5|    6|      50|  0|   4|\n",
      "|   2017-10-01|2017/18|   7|2017-10-01|13:00:00|      Brighton|home|           2|            0| Emirates Stadium|     59378|Arsène Wenger|   Kevin Friend|      6|Petr Cech|    Cech|     Petr| 10/1/2017|    1| GK| 90|   1|  0|    1| 0.1|    0|  0|  0|     19|     6|  27.7|    6|      66|  1|   4|\n",
      "|   2017-10-14|2017/18|   8|2017-10-14|18:30:00|       Watford|away|           1|            2|    Vicarage Road|     20384|Arsène Wenger| Neil Swarbrick|      7|Petr Cech|    Cech|     Petr|10/14/2017|    1| GK| 90|   2|  2|    0| 1.7|    1|  1|  0|     25|     6|  43.5|    8|    51.9|  0|   4|\n",
      "|   2017-10-22|2017/18|   9|2017-10-22|14:30:00|       Everton|away|           5|            2|    Goodison Park|     39189|Arsène Wenger|   Craig Pawson|      8|Petr Cech|    Cech|     Petr|10/22/2017|    1| GK| 90|   3|  2|    1| 0.8|    0|  0|  0|     23|     4|  36.1|    6|    43.3|  0|   4|\n",
      "|   2017-10-28|2017/18|  10|2017-10-28|16:00:00|       Swansea|home|           2|            1| Emirates Stadium|     59493|Arsène Wenger|      Lee Mason|      9|Petr Cech|    Cech|     Petr|10/28/2017|    1| GK| 90|   2|  1|    1| 0.8|    0|  0|  0|     20|     8|  35.6|    2|    24.5|  0|   4|\n",
      "|   2017-11-05|2017/18|  11|2017-11-05|15:15:00|      Man City|away|           1|            3|   Etihad Stadium|     54286|Arsène Wenger| Michael Oliver|     10|Petr Cech|    Cech|     Petr| 11/5/2017|    1| GK| 90|   5|  3|    2| 2.5|    1|  1|  0|     20|     4|  36.7|    7|    51.4|  0|   4|\n",
      "|   2017-11-18|2017/18|  12|2017-11-18|13:30:00|     Tottenham|home|           2|            0| Emirates Stadium|     59530|Arsène Wenger|      Mike Dean|     11|Petr Cech|    Cech|     Petr|11/18/2017|    1| GK| 90|   4|  0|    4|   1|    0|  0|  0|     23|     3|  47.1|    7|    64.3|  0|   4|\n",
      "|   2017-11-26|2017/18|  13|2017-11-26|15:00:00|       Burnley|away|           1|            0|        Turf Moor|     21722|Arsène Wenger|      Lee Mason|     12|Petr Cech|    Cech|     Petr|11/26/2017|    1| GK| 90|   2|  0|    2| 0.5|    0|  0|  0|     21|     5|  35.4|    4|    39.5|  0|   4|\n",
      "|   2017-11-29|2017/18|  14|2017-11-29|20:45:00|  Huddersfield|home|           5|            0| Emirates Stadium|     59285|Arsène Wenger|   Graham Scott|     13|Petr Cech|    Cech|     Petr|11/29/2017|    1| GK| 90|   3|  0|    2| 0.6|    0|  0|  0|     30|     5|  26.9|    3|    19.7|  0|   4|\n",
      "|   2017-12-02|2017/18|  15|2017-12-02|18:30:00|       Man Utd|home|           1|            3| Emirates Stadium|     59547|Arsène Wenger| Andre Marriner|     14|Petr Cech|    Cech|     Petr| 12/2/2017|    1| GK| 90|   4|  3|    1| 2.2|    0|  0|  0|     20|     7|  24.8|    3|      36|  0|   4|\n",
      "|   2017-12-10|2017/18|  16|2017-12-10|13:00:00|   Southampton|away|           1|            1|St Mary's Stadium|     31643|Arsène Wenger|   Bobby Madley|     15|Petr Cech|    Cech|     Petr|12/10/2017|    1| GK| 90|   3|  1|    2| 1.2|    0|  0|  0|     29|    11|  30.9|    4|    61.5|  0|   4|\n",
      "|   2017-12-13|2017/18|  17|2017-12-13|21:00:00|      West Ham|away|           0|            0|   London Stadium|     56925|Arsène Wenger|  Jonathan Moss|     16|Petr Cech|    Cech|     Petr|12/13/2017|    1| GK| 90|   0|  0|    0|   0|    0|  0|  0|     17|     6|    38|    6|      63|  0|   4|\n",
      "|   2017-12-16|2017/18|  18|2017-12-16|16:00:00|     Newcastle|home|           1|            0| Emirates Stadium|     59379|Arsène Wenger| Stuart Attwell|     17|Petr Cech|    Cech|     Petr|12/16/2017|    1| GK| 90|   2|  0|    2| 0.4|    0|  0|  0|     24|     8|  35.2|    8|    37.3|  0|   4|\n",
      "|   2017-12-22|2017/18|  19|2017-12-22|20:45:00|     Liverpool|home|           3|            3| Emirates Stadium|     59409|Arsène Wenger|Martin Atkinson|     18|Petr Cech|    Cech|     Petr|12/22/2017|    1| GK| 90|   9|  3|    6| 2.9|    0|  0|  0|     32|    12|  37.3|    9|    57.8|  0|   4|\n",
      "|   2017-12-28|2017/18|  20|2017-12-28|21:00:00|Crystal Palace|away|           3|            2|    Selhurst Park|     25762|Arsène Wenger| Michael Oliver|     19|Petr Cech|    Cech|     Petr|12/28/2017|    1| GK| 90|   2|  2|    0| 0.6|    0|  0|  0|     16|     4|  33.2|   13|    44.4|  0|   4|\n",
      "+-------------+-------+----+----------+--------+--------------+----+------------+-------------+-----------------+----------+-------------+---------------+-------+---------+--------+---------+----------+-----+---+---+----+---+-----+----+-----+---+---+-------+------+------+-----+--------+---+----+\n",
      "only showing top 20 rows\n",
      "\n"
     ]
    }
   ],
   "source": [
    "FactGk.show()"
   ]
  },
  {
   "cell_type": "code",
   "execution_count": 188,
   "id": "38fea1ee-87dc-4639-b2f5-a677dbfd80fb",
   "metadata": {},
   "outputs": [
    {
     "data": {
      "text/plain": [
       "['FormattedDate',\n",
       " 'ArsenalScore',\n",
       " 'OpponentScore',\n",
       " 'Attendance',\n",
       " 'MatchID',\n",
       " 'Start',\n",
       " 'Min',\n",
       " 'SoTA',\n",
       " 'GA',\n",
       " 'Saves',\n",
       " 'PSxG',\n",
       " 'PKatt',\n",
       " 'PKA',\n",
       " 'PKm',\n",
       " 'PassAtt',\n",
       " 'Throws',\n",
       " 'AvgLen',\n",
       " 'GKAtt',\n",
       " 'GKAvgLen',\n",
       " 'C',\n",
       " 'GkID']"
      ]
     },
     "execution_count": 188,
     "metadata": {},
     "output_type": "execute_result"
    }
   ],
   "source": [
    "FactGk = FactGk.drop( \n",
    " 'Season',\n",
    " 'Tour',\n",
    " 'Time',\n",
    " 'Opponent',\n",
    " 'HoAw',\n",
    " 'Stadium',\n",
    " 'Coach',\n",
    " 'Referee',\n",
    "  'Pos',\n",
    "'fullname',\n",
    " 'LastName',\n",
    " 'FirstName','Date'\n",
    " \n",
    ")\n",
    "FactGk.columns"
   ]
  },
  {
   "cell_type": "code",
   "execution_count": 189,
   "id": "9ecaed05-09f3-4574-93ec-d42f60664780",
   "metadata": {},
   "outputs": [
    {
     "data": {
      "text/plain": [
       "['FormattedDate',\n",
       " 'ArsenalScore',\n",
       " 'OpponentScore',\n",
       " 'Attendance',\n",
       " 'MatchID',\n",
       " 'Start',\n",
       " 'Min',\n",
       " 'SoTA',\n",
       " 'GA',\n",
       " 'Saves',\n",
       " 'PSxG',\n",
       " 'PKatt',\n",
       " 'PKA',\n",
       " 'PKm',\n",
       " 'PassAtt',\n",
       " 'Throws',\n",
       " 'AvgLen',\n",
       " 'GKAtt',\n",
       " 'GKAvgLen',\n",
       " 'C',\n",
       " 'GkID']"
      ]
     },
     "execution_count": 189,
     "metadata": {},
     "output_type": "execute_result"
    }
   ],
   "source": [
    "FactGk.columns"
   ]
  },
  {
   "cell_type": "markdown",
   "id": "d5aee73e-a528-4eed-a2dd-65af296090d2",
   "metadata": {},
   "source": [
    "#### Loading the FactGoalkeepers for DWH Schema in ArsenalFC Database in PostgreSql"
   ]
  },
  {
   "cell_type": "code",
   "execution_count": 190,
   "id": "d9127314-3547-498a-965e-92becaea7783",
   "metadata": {},
   "outputs": [],
   "source": [
    "FactGk.write.format(\"jdbc\") \\\n",
    "    .option(\"url\", \"jdbc:postgresql://postgres:5432/arsenalfc\") \\\n",
    "    .option(\"driver\", \"org.postgresql.Driver\") \\\n",
    "    .option(\"dbtable\", \"dwh.FactArsenalGoalKeepers\") \\\n",
    "    .option(\"user\", \"postgres\") \\\n",
    "    .option(\"password\", \"postgres\") \\\n",
    "    .mode(\"overwrite\") \\\n",
    "    .save()\n"
   ]
  },
  {
   "cell_type": "code",
   "execution_count": 191,
   "id": "49d04e46-69a9-4075-8d4e-814d28946554",
   "metadata": {},
   "outputs": [
    {
     "data": {
      "text/plain": [
       "['fullname',\n",
       " 'LastName',\n",
       " 'FirstName',\n",
       " 'Date',\n",
       " 'Start',\n",
       " 'Pos',\n",
       " 'Min',\n",
       " 'SoTA',\n",
       " 'GA',\n",
       " 'Saves',\n",
       " 'PSxG',\n",
       " 'PKatt',\n",
       " 'PKA',\n",
       " 'PKm',\n",
       " 'PassAtt',\n",
       " 'Throws',\n",
       " 'AvgLen',\n",
       " 'GKAtt',\n",
       " 'GKAvgLen',\n",
       " 'C',\n",
       " 'GkID',\n",
       " 'FormattedDate']"
      ]
     },
     "execution_count": 191,
     "metadata": {},
     "output_type": "execute_result"
    }
   ],
   "source": [
    "DimGoalKeepers.columns"
   ]
  },
  {
   "cell_type": "markdown",
   "id": "f5c2033b-3f4b-4d06-98d4-418ba8d3c295",
   "metadata": {},
   "source": [
    "#### Loading the DimGoalKeepers for DWH Schema in ArsenalFC Database in PostgreSql"
   ]
  },
  {
   "cell_type": "code",
   "execution_count": 192,
   "id": "d9ed96f6-252e-44c1-b059-41da89e55a7f",
   "metadata": {},
   "outputs": [
    {
     "data": {
      "text/plain": [
       "['fullname', 'LastName', 'FirstName', 'Pos', 'GkID']"
      ]
     },
     "execution_count": 192,
     "metadata": {},
     "output_type": "execute_result"
    }
   ],
   "source": [
    "DimGoalKeepers= DimGoalKeepers.drop('Min','Start',\n",
    " 'SoTA',\n",
    " 'GA',\n",
    " 'Saves',\n",
    " 'PSxG',\n",
    " 'PKatt',\n",
    " 'PKA',\n",
    " 'PKm',\n",
    " 'PassAtt',\n",
    " 'Throws',\n",
    " 'AvgLen',\n",
    " 'GKAtt',\n",
    " 'GKAvgLen','Date','C','FormattedDate')\n",
    "\n",
    "DimGoalKeepers.columns"
   ]
  },
  {
   "cell_type": "code",
   "execution_count": 193,
   "id": "934ee25e-91eb-44cd-b0e3-fe53a705d141",
   "metadata": {},
   "outputs": [],
   "source": [
    "DimGoalKeepers.createOrReplaceTempView(\"DimGoalKeepers\")"
   ]
  },
  {
   "cell_type": "code",
   "execution_count": 194,
   "id": "1e0d4d25-e70f-4dfb-b0e6-98f124f6b5cc",
   "metadata": {},
   "outputs": [
    {
     "name": "stdout",
     "output_type": "stream",
     "text": [
      "+-----------------+---------+---------+----+----+\n",
      "|         fullname| LastName|FirstName| Pos|GkID|\n",
      "+-----------------+---------+---------+----+----+\n",
      "|Emiliano Martinez| Martinez| Emiliano|  GK|   1|\n",
      "|   Aaron Ramsdale| Ramsdale|    Aaron|  GK|   2|\n",
      "|       Bernd Leno|     Leno|    Bernd|  GK|   3|\n",
      "|        Petr Cech|     Cech|     Petr|  GK|   4|\n",
      "|  Runar Runarsson|Runarsson|    Runar|GKDM|   5|\n",
      "|      Mathew Ryan|     Ryan|   Mathew|  GK|   6|\n",
      "|     David Ospina|   Ospina|    David|  GK|   7|\n",
      "+-----------------+---------+---------+----+----+\n",
      "\n"
     ]
    }
   ],
   "source": [
    "DimGoalKeepers = spark.sql(\"\"\" select distinct * from DimGoalKeepers\"\"\")\n",
    "DimGoalKeepers.show()"
   ]
  },
  {
   "cell_type": "code",
   "execution_count": 195,
   "id": "58c5090f-abc5-4814-8385-e210ce0e6b6b",
   "metadata": {},
   "outputs": [
    {
     "name": "stdout",
     "output_type": "stream",
     "text": [
      "+-----------------+---------+---------+----+----+\n",
      "|         fullname| LastName|FirstName| Pos|GkID|\n",
      "+-----------------+---------+---------+----+----+\n",
      "|Emiliano Martinez| Martinez| Emiliano|  GK|   1|\n",
      "|   Aaron Ramsdale| Ramsdale|    Aaron|  GK|   2|\n",
      "|       Bernd Leno|     Leno|    Bernd|  GK|   3|\n",
      "|        Petr Cech|     Cech|     Petr|  GK|   4|\n",
      "|  Runar Runarsson|Runarsson|    Runar|GKDM|   5|\n",
      "|      Mathew Ryan|     Ryan|   Mathew|  GK|   6|\n",
      "|     David Ospina|   Ospina|    David|  GK|   7|\n",
      "+-----------------+---------+---------+----+----+\n",
      "\n"
     ]
    }
   ],
   "source": [
    "DimGoalKeepers =DimGoalKeepers.dropDuplicates()\n",
    "DimGoalKeepers.show()"
   ]
  },
  {
   "cell_type": "code",
   "execution_count": 196,
   "id": "d0814378-1047-43b8-873c-b6286400f576",
   "metadata": {},
   "outputs": [],
   "source": [
    "DimGoalKeepers.write.format(\"jdbc\") \\\n",
    "    .option(\"url\", \"jdbc:postgresql://postgres:5432/arsenalfc\") \\\n",
    "    .option(\"driver\", \"org.postgresql.Driver\") \\\n",
    "    .option(\"dbtable\", \"dwh.DimArsenalGoalKeepers\") \\\n",
    "    .option(\"user\", \"postgres\") \\\n",
    "    .option(\"password\", \"postgres\") \\\n",
    "    .mode(\"overwrite\") \\\n",
    "    .save()\n"
   ]
  },
  {
   "cell_type": "markdown",
   "id": "a744207f-997b-420f-93b6-21469ef2eb3d",
   "metadata": {},
   "source": [
    "### Creating DimDate and Loading into PostgreSQL"
   ]
  },
  {
   "cell_type": "code",
   "execution_count": 231,
   "id": "8960cb72-ce22-485a-8d2e-65d2b8606f73",
   "metadata": {},
   "outputs": [
    {
     "name": "stdout",
     "output_type": "stream",
     "text": [
      "+----------+----------+\n",
      "|  Max_date|  Min_Date|\n",
      "+----------+----------+\n",
      "|2023-02-25|2017-08-11|\n",
      "+----------+----------+\n",
      "\n"
     ]
    }
   ],
   "source": [
    "Dates = spark.sql (\"\"\"\n",
    "select Max(Date) as Max_date , MIN(Date) as Min_Date from Matches\n",
    "\n",
    "\"\"\").show()"
   ]
  },
  {
   "cell_type": "code",
   "execution_count": null,
   "id": "f8344f2a-3fea-4c53-8c06-97c08089de36",
   "metadata": {},
   "outputs": [],
   "source": [
    "from pyspark.sql.functions import year, month, dayofmonth, dayofweek, quarter\n",
    "\n",
    "dim_date_df = date_df.select(\n",
    "    \"Date\",\n",
    "    year(\"Date\").alias(\"Year\"),\n",
    "    month(\"Date\").alias(\"Month\"),\n",
    "    dayofmonth(\"Date\").alias(\"Day\"),\n",
    "    dayofweek(\"Date\").alias(\"Weekday\"),\n",
    "    quarter(\"Date\").alias(\"Quarter\")\n",
    ")\n",
    "\n",
    "dim_date_df.show()\n"
   ]
  },
  {
   "cell_type": "markdown",
   "id": "0d27c737-bc2b-46fe-b481-8697d46e3d7a",
   "metadata": {},
   "source": [
    "### Loading DimDate to DWH"
   ]
  },
  {
   "cell_type": "code",
   "execution_count": null,
   "id": "5f33dbe4-99d6-49e1-8d7f-66b084331f20",
   "metadata": {},
   "outputs": [],
   "source": [
    "dim_date_df.write.format(\"jdbc\") \\\n",
    "    .option(\"url\", \"jdbc:postgresql://postgres:5432/arsenalfc\") \\\n",
    "    .option(\"driver\", \"org.postgresql.Driver\") \\\n",
    "    .option(\"dbtable\", \"dwh.DimDate\") \\\n",
    "    .option(\"user\", \"postgres\") \\\n",
    "    .option(\"password\", \"postgres\") \\\n",
    "    .mode(\"overwrite\") \\\n",
    "    .save()\n"
   ]
  }
 ],
 "metadata": {
  "kernelspec": {
   "display_name": "Python 3 (ipykernel)",
   "language": "python",
   "name": "python3"
  },
  "language_info": {
   "codemirror_mode": {
    "name": "ipython",
    "version": 3
   },
   "file_extension": ".py",
   "mimetype": "text/x-python",
   "name": "python",
   "nbconvert_exporter": "python",
   "pygments_lexer": "ipython3",
   "version": "3.11.6"
  }
 },
 "nbformat": 4,
 "nbformat_minor": 5
}
