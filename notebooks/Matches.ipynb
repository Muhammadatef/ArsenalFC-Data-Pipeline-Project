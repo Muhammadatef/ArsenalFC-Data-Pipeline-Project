{
 "cells": [
  {
   "cell_type": "code",
   "execution_count": 1,
   "id": "e566dc9b-df34-4f7d-b903-cfdf774892f2",
   "metadata": {},
   "outputs": [],
   "source": [
    "from pyspark.sql import SparkSession\n",
    "from pyspark.sql.functions import *"
   ]
  },
  {
   "cell_type": "code",
   "execution_count": 2,
   "id": "ede9db44-39b1-42a7-891e-f53ca0d31070",
   "metadata": {},
   "outputs": [],
   "source": [
    "spark= SparkSession.builder.getOrCreate()"
   ]
  },
  {
   "cell_type": "code",
   "execution_count": 4,
   "id": "fd664215-66d2-45e5-8507-de905f001555",
   "metadata": {},
   "outputs": [],
   "source": [
    "Matches = spark.read.format('csv')\\\n",
    "    .option(\"header\", \"True\")\\\n",
    "    .option(\"inferSchema\", \"True\")\\\n",
    "    .load(\"../data/matches.csv\")"
   ]
  },
  {
   "cell_type": "code",
   "execution_count": 6,
   "id": "e15d76ca-3e81-4bd5-a060-6ebd8de04334",
   "metadata": {},
   "outputs": [
    {
     "name": "stdout",
     "output_type": "stream",
     "text": [
      "+-------+----+----------+-------------------+----------+----+------------+-------------+----------------+----------+-------------+--------------+\n",
      "| Season|Tour|      Date|               Time|  Opponent|HoAw|ArsenalScore|OpponentScore|         Stadium|Attendance|        Coach|       Referee|\n",
      "+-------+----+----------+-------------------+----------+----+------------+-------------+----------------+----------+-------------+--------------+\n",
      "|2017/18|   1|2017-08-11|2024-03-25 20:45:00| Leicester|home|           4|            3|Emirates Stadium|     59387|Arsène Wenger|     Mike Dean|\n",
      "|2017/18|   2|2017-08-19|2024-03-25 18:30:00|Stoke City|away|           0|            1|  bet365 Stadium|     29459|Arsène Wenger|Andre Marriner|\n",
      "|2017/18|   3|2017-08-27|2024-03-25 17:00:00| Liverpool|away|           0|            4|         Anfield|     53206|Arsène Wenger|  Craig Pawson|\n",
      "+-------+----+----------+-------------------+----------+----+------------+-------------+----------------+----------+-------------+--------------+\n",
      "only showing top 3 rows\n",
      "\n"
     ]
    }
   ],
   "source": [
    "Matches.show(3)"
   ]
  },
  {
   "cell_type": "code",
   "execution_count": 7,
   "id": "a5e8bea9-a36c-491a-85f0-7967e19aa04d",
   "metadata": {},
   "outputs": [
    {
     "data": {
      "text/plain": [
       "StructType([StructField('Season', StringType(), True), StructField('Tour', IntegerType(), True), StructField('Date', DateType(), True), StructField('Time', TimestampType(), True), StructField('Opponent', StringType(), True), StructField('HoAw', StringType(), True), StructField('ArsenalScore', IntegerType(), True), StructField('OpponentScore', IntegerType(), True), StructField('Stadium', StringType(), True), StructField('Attendance', IntegerType(), True), StructField('Coach', StringType(), True), StructField('Referee', StringType(), True)])"
      ]
     },
     "execution_count": 7,
     "metadata": {},
     "output_type": "execute_result"
    }
   ],
   "source": [
    "Matches.schema"
   ]
  },
  {
   "cell_type": "code",
   "execution_count": 10,
   "id": "59095503-5f70-4fef-86bf-5cd9d85d7872",
   "metadata": {},
   "outputs": [],
   "source": [
    "Matches.createOrReplaceTempView(\"Matches\")"
   ]
  },
  {
   "cell_type": "code",
   "execution_count": 12,
   "id": "ecbd45c4-7766-4459-a465-26de7c6d4c89",
   "metadata": {},
   "outputs": [
    {
     "name": "stdout",
     "output_type": "stream",
     "text": [
      "+--------------------+\n",
      "|count(DISTINCT Date)|\n",
      "+--------------------+\n",
      "|                 214|\n",
      "+--------------------+\n",
      "\n"
     ]
    }
   ],
   "source": [
    "distinct_matches = spark.sql (\"\"\"\n",
    "select Count(distinct Date) from Matches\n",
    "\n",
    "\"\"\").show()"
   ]
  },
  {
   "cell_type": "code",
   "execution_count": 13,
   "id": "ed8abf94-78e1-4f5c-83c1-5d7e9e912a15",
   "metadata": {},
   "outputs": [
    {
     "name": "stdout",
     "output_type": "stream",
     "text": [
      "+-----------+\n",
      "|count(Date)|\n",
      "+-----------+\n",
      "|        214|\n",
      "+-----------+\n",
      "\n"
     ]
    }
   ],
   "source": [
    "matches = spark.sql (\"\"\"\n",
    "select Count(Date) from Matches\n",
    "\n",
    "\"\"\").show()"
   ]
  },
  {
   "cell_type": "code",
   "execution_count": 14,
   "id": "1ffea885-f39c-4515-bdbb-fd3ac8632f54",
   "metadata": {},
   "outputs": [],
   "source": [
    "DimMatch= Matches.withColumn(\"MatchID\", monotonically_increasing_id())"
   ]
  },
  {
   "cell_type": "code",
   "execution_count": 16,
   "id": "ea188e59-7717-469b-b5f8-d4c19f8d8e93",
   "metadata": {},
   "outputs": [
    {
     "name": "stdout",
     "output_type": "stream",
     "text": [
      "+-------+----+----------+-------------------+--------------+----+------------+-------------+-----------------+----------+-------------+---------------+-------+\n",
      "| Season|Tour|      Date|               Time|      Opponent|HoAw|ArsenalScore|OpponentScore|          Stadium|Attendance|        Coach|        Referee|MatchID|\n",
      "+-------+----+----------+-------------------+--------------+----+------------+-------------+-----------------+----------+-------------+---------------+-------+\n",
      "|2017/18|   1|2017-08-11|2024-03-25 20:45:00|     Leicester|home|           4|            3| Emirates Stadium|     59387|Arsène Wenger|      Mike Dean|      0|\n",
      "|2017/18|   2|2017-08-19|2024-03-25 18:30:00|    Stoke City|away|           0|            1|   bet365 Stadium|     29459|Arsène Wenger| Andre Marriner|      1|\n",
      "|2017/18|   3|2017-08-27|2024-03-25 17:00:00|     Liverpool|away|           0|            4|          Anfield|     53206|Arsène Wenger|   Craig Pawson|      2|\n",
      "|2017/18|   4|2017-09-09|2024-03-25 16:00:00|   Bournemouth|home|           3|            0| Emirates Stadium|     59262|Arsène Wenger| Anthony Taylor|      3|\n",
      "|2017/18|   5|2017-09-17|2024-03-25 14:30:00|       Chelsea|away|           0|            0|  Stamford Bridge|     41478|Arsène Wenger| Michael Oliver|      4|\n",
      "|2017/18|   6|2017-09-25|2024-03-25 21:00:00|     West Brom|home|           2|            0| Emirates Stadium|     59134|Arsène Wenger|   Bobby Madley|      5|\n",
      "|2017/18|   7|2017-10-01|2024-03-25 13:00:00|      Brighton|home|           2|            0| Emirates Stadium|     59378|Arsène Wenger|   Kevin Friend|      6|\n",
      "|2017/18|   8|2017-10-14|2024-03-25 18:30:00|       Watford|away|           1|            2|    Vicarage Road|     20384|Arsène Wenger| Neil Swarbrick|      7|\n",
      "|2017/18|   9|2017-10-22|2024-03-25 14:30:00|       Everton|away|           5|            2|    Goodison Park|     39189|Arsène Wenger|   Craig Pawson|      8|\n",
      "|2017/18|  10|2017-10-28|2024-03-25 16:00:00|       Swansea|home|           2|            1| Emirates Stadium|     59493|Arsène Wenger|      Lee Mason|      9|\n",
      "|2017/18|  11|2017-11-05|2024-03-25 15:15:00|      Man City|away|           1|            3|   Etihad Stadium|     54286|Arsène Wenger| Michael Oliver|     10|\n",
      "|2017/18|  12|2017-11-18|2024-03-25 13:30:00|     Tottenham|home|           2|            0| Emirates Stadium|     59530|Arsène Wenger|      Mike Dean|     11|\n",
      "|2017/18|  13|2017-11-26|2024-03-25 15:00:00|       Burnley|away|           1|            0|        Turf Moor|     21722|Arsène Wenger|      Lee Mason|     12|\n",
      "|2017/18|  14|2017-11-29|2024-03-25 20:45:00|  Huddersfield|home|           5|            0| Emirates Stadium|     59285|Arsène Wenger|   Graham Scott|     13|\n",
      "|2017/18|  15|2017-12-02|2024-03-25 18:30:00|       Man Utd|home|           1|            3| Emirates Stadium|     59547|Arsène Wenger| Andre Marriner|     14|\n",
      "|2017/18|  16|2017-12-10|2024-03-25 13:00:00|   Southampton|away|           1|            1|St Mary's Stadium|     31643|Arsène Wenger|   Bobby Madley|     15|\n",
      "|2017/18|  17|2017-12-13|2024-03-25 21:00:00|      West Ham|away|           0|            0|   London Stadium|     56925|Arsène Wenger|  Jonathan Moss|     16|\n",
      "|2017/18|  18|2017-12-16|2024-03-25 16:00:00|     Newcastle|home|           1|            0| Emirates Stadium|     59379|Arsène Wenger| Stuart Attwell|     17|\n",
      "|2017/18|  19|2017-12-22|2024-03-25 20:45:00|     Liverpool|home|           3|            3| Emirates Stadium|     59409|Arsène Wenger|Martin Atkinson|     18|\n",
      "|2017/18|  20|2017-12-28|2024-03-25 21:00:00|Crystal Palace|away|           3|            2|    Selhurst Park|     25762|Arsène Wenger| Michael Oliver|     19|\n",
      "+-------+----+----------+-------------------+--------------+----+------------+-------------+-----------------+----------+-------------+---------------+-------+\n",
      "only showing top 20 rows\n",
      "\n"
     ]
    }
   ],
   "source": [
    "DimMatch.show()"
   ]
  },
  {
   "cell_type": "code",
   "execution_count": 19,
   "id": "6c671ba0-b04e-4024-aaa8-710ab55a838e",
   "metadata": {},
   "outputs": [],
   "source": [
    "DimMatch.write.csv('../data/DimMatches.csv', header=True)"
   ]
  },
  {
   "cell_type": "code",
   "execution_count": null,
   "id": "6d375c9e-c487-4508-846e-939a6569597e",
   "metadata": {},
   "outputs": [],
   "source": []
  }
 ],
 "metadata": {
  "kernelspec": {
   "display_name": "Python 3 (ipykernel)",
   "language": "python",
   "name": "python3"
  },
  "language_info": {
   "codemirror_mode": {
    "name": "ipython",
    "version": 3
   },
   "file_extension": ".py",
   "mimetype": "text/x-python",
   "name": "python",
   "nbconvert_exporter": "python",
   "pygments_lexer": "ipython3",
   "version": "3.11.6"
  }
 },
 "nbformat": 4,
 "nbformat_minor": 5
}
