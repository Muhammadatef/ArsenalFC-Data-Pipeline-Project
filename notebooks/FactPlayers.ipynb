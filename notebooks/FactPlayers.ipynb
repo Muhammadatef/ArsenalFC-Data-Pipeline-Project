{
 "cells": [
  {
   "cell_type": "code",
   "execution_count": 1,
   "id": "1c3758c2-9c24-432b-a5b6-b07053c993d4",
   "metadata": {},
   "outputs": [],
   "source": [
    "from pyspark.sql import SparkSession\n",
    "from pyspark.sql.functions import *"
   ]
  },
  {
   "cell_type": "code",
   "execution_count": 2,
   "id": "e85284b5-66f7-4026-ad0a-1d49d500023b",
   "metadata": {},
   "outputs": [],
   "source": [
    "spark= SparkSession.builder.getOrCreate()"
   ]
  },
  {
   "cell_type": "code",
   "execution_count": 12,
   "id": "a971963a-40a7-4183-9527-ddbe4450b53f",
   "metadata": {},
   "outputs": [],
   "source": [
    "DimMatches = spark.read.format('csv')\\\n",
    "    .option(\"header\", \"True\")\\\n",
    "    .option(\"inferSchema\", \"True\")\\\n",
    "    .load(\"../data/DimMatches/DimMatches.csv\")"
   ]
  },
  {
   "cell_type": "code",
   "execution_count": 13,
   "id": "96bfca85-cb6b-459f-9939-b6b62affe3bd",
   "metadata": {},
   "outputs": [
    {
     "data": {
      "text/plain": [
       "['Season',\n",
       " 'Tour',\n",
       " 'Date',\n",
       " 'Time',\n",
       " 'Opponent',\n",
       " 'HoAw',\n",
       " 'ArsenalScore',\n",
       " 'OpponentScore',\n",
       " 'Stadium',\n",
       " 'Attendance',\n",
       " 'Coach',\n",
       " 'Referee',\n",
       " 'MatchID']"
      ]
     },
     "execution_count": 13,
     "metadata": {},
     "output_type": "execute_result"
    }
   ],
   "source": [
    "DimMatches.columns"
   ]
  },
  {
   "cell_type": "code",
   "execution_count": 7,
   "id": "74d4e315-db8f-4192-99d9-c5a96ca6b9dd",
   "metadata": {},
   "outputs": [],
   "source": [
    "DimPlayers = spark.read.format('csv')\\\n",
    "    .option(\"header\", \"True\")\\\n",
    "    .option(\"inferSchema\", \"True\")\\\n",
    "    .load(\"../data/Dimplayers/DimPlayers.csv\")"
   ]
  },
  {
   "cell_type": "code",
   "execution_count": 11,
   "id": "5bccd111-1d24-4d7a-a7b1-ba7e45651df5",
   "metadata": {},
   "outputs": [
    {
     "data": {
      "text/plain": [
       "['fullname',\n",
       " 'LastName',\n",
       " 'FirstName',\n",
       " 'Date',\n",
       " 'Start',\n",
       " 'Pos',\n",
       " 'Min',\n",
       " 'G',\n",
       " 'A',\n",
       " 'PK',\n",
       " 'PKA',\n",
       " 'S',\n",
       " 'SoT',\n",
       " 'YK',\n",
       " 'RK',\n",
       " 'Touches',\n",
       " 'Tackles',\n",
       " 'Ints',\n",
       " 'Blocks',\n",
       " 'xG',\n",
       " 'npxG',\n",
       " 'xAG',\n",
       " 'Passes',\n",
       " 'PassesA',\n",
       " 'PrgPas',\n",
       " 'Carries',\n",
       " 'PrgCar',\n",
       " 'Line',\n",
       " 'C',\n",
       " 'PlayerID']"
      ]
     },
     "execution_count": 11,
     "metadata": {},
     "output_type": "execute_result"
    }
   ],
   "source": [
    "DimPlayers.columns"
   ]
  },
  {
   "cell_type": "code",
   "execution_count": 24,
   "id": "2e0c4d07-dec2-4f8a-af3f-0d40a60d6708",
   "metadata": {},
   "outputs": [
    {
     "name": "stdout",
     "output_type": "stream",
     "text": [
      "+----------+-------+----+-------------------+--------------+----+------------+-------------+-----------------+----------+-------------+---------------+-------+--------+--------+---------+-----+----+----+----+----+----+----+----+----+----+----+-------+-------+----+------+----+----+----+------+-------+------+-------+------+----+----+--------+\n",
      "|      Date| Season|Tour|               Time|      Opponent|HoAw|ArsenalScore|OpponentScore|          Stadium|Attendance|        Coach|        Referee|MatchID|fullname|LastName|FirstName|Start| Pos| Min|   G|   A|  PK| PKA|   S| SoT|  YK|  RK|Touches|Tackles|Ints|Blocks|  xG|npxG| xAG|Passes|PassesA|PrgPas|Carries|PrgCar|Line|   C|PlayerID|\n",
      "+----------+-------+----+-------------------+--------------+----+------------+-------------+-----------------+----------+-------------+---------------+-------+--------+--------+---------+-----+----+----+----+----+----+----+----+----+----+----+-------+-------+----+------+----+----+----+------+-------+------+-------+------+----+----+--------+\n",
      "|2017-08-11|2017/18|   1|2024-03-25 20:45:00|     Leicester|home|           4|            3| Emirates Stadium|     59387|Arsène Wenger|      Mike Dean|      0|    NULL|    NULL|     NULL| NULL|NULL|NULL|NULL|NULL|NULL|NULL|NULL|NULL|NULL|NULL|   NULL|   NULL|NULL|  NULL|NULL|NULL|NULL|  NULL|   NULL|  NULL|   NULL|  NULL|NULL|NULL|    NULL|\n",
      "|2017-08-19|2017/18|   2|2024-03-25 18:30:00|    Stoke City|away|           0|            1|   bet365 Stadium|     29459|Arsène Wenger| Andre Marriner|      1|    NULL|    NULL|     NULL| NULL|NULL|NULL|NULL|NULL|NULL|NULL|NULL|NULL|NULL|NULL|   NULL|   NULL|NULL|  NULL|NULL|NULL|NULL|  NULL|   NULL|  NULL|   NULL|  NULL|NULL|NULL|    NULL|\n",
      "|2017-08-27|2017/18|   3|2024-03-25 17:00:00|     Liverpool|away|           0|            4|          Anfield|     53206|Arsène Wenger|   Craig Pawson|      2|    NULL|    NULL|     NULL| NULL|NULL|NULL|NULL|NULL|NULL|NULL|NULL|NULL|NULL|NULL|   NULL|   NULL|NULL|  NULL|NULL|NULL|NULL|  NULL|   NULL|  NULL|   NULL|  NULL|NULL|NULL|    NULL|\n",
      "|2017-09-09|2017/18|   4|2024-03-25 16:00:00|   Bournemouth|home|           3|            0| Emirates Stadium|     59262|Arsène Wenger| Anthony Taylor|      3|    NULL|    NULL|     NULL| NULL|NULL|NULL|NULL|NULL|NULL|NULL|NULL|NULL|NULL|NULL|   NULL|   NULL|NULL|  NULL|NULL|NULL|NULL|  NULL|   NULL|  NULL|   NULL|  NULL|NULL|NULL|    NULL|\n",
      "|2017-09-17|2017/18|   5|2024-03-25 14:30:00|       Chelsea|away|           0|            0|  Stamford Bridge|     41478|Arsène Wenger| Michael Oliver|      4|    NULL|    NULL|     NULL| NULL|NULL|NULL|NULL|NULL|NULL|NULL|NULL|NULL|NULL|NULL|   NULL|   NULL|NULL|  NULL|NULL|NULL|NULL|  NULL|   NULL|  NULL|   NULL|  NULL|NULL|NULL|    NULL|\n",
      "|2017-09-25|2017/18|   6|2024-03-25 21:00:00|     West Brom|home|           2|            0| Emirates Stadium|     59134|Arsène Wenger|   Bobby Madley|      5|    NULL|    NULL|     NULL| NULL|NULL|NULL|NULL|NULL|NULL|NULL|NULL|NULL|NULL|NULL|   NULL|   NULL|NULL|  NULL|NULL|NULL|NULL|  NULL|   NULL|  NULL|   NULL|  NULL|NULL|NULL|    NULL|\n",
      "|2017-10-01|2017/18|   7|2024-03-25 13:00:00|      Brighton|home|           2|            0| Emirates Stadium|     59378|Arsène Wenger|   Kevin Friend|      6|    NULL|    NULL|     NULL| NULL|NULL|NULL|NULL|NULL|NULL|NULL|NULL|NULL|NULL|NULL|   NULL|   NULL|NULL|  NULL|NULL|NULL|NULL|  NULL|   NULL|  NULL|   NULL|  NULL|NULL|NULL|    NULL|\n",
      "|2017-10-14|2017/18|   8|2024-03-25 18:30:00|       Watford|away|           1|            2|    Vicarage Road|     20384|Arsène Wenger| Neil Swarbrick|      7|    NULL|    NULL|     NULL| NULL|NULL|NULL|NULL|NULL|NULL|NULL|NULL|NULL|NULL|NULL|   NULL|   NULL|NULL|  NULL|NULL|NULL|NULL|  NULL|   NULL|  NULL|   NULL|  NULL|NULL|NULL|    NULL|\n",
      "|2017-10-22|2017/18|   9|2024-03-25 14:30:00|       Everton|away|           5|            2|    Goodison Park|     39189|Arsène Wenger|   Craig Pawson|      8|    NULL|    NULL|     NULL| NULL|NULL|NULL|NULL|NULL|NULL|NULL|NULL|NULL|NULL|NULL|   NULL|   NULL|NULL|  NULL|NULL|NULL|NULL|  NULL|   NULL|  NULL|   NULL|  NULL|NULL|NULL|    NULL|\n",
      "|2017-10-28|2017/18|  10|2024-03-25 16:00:00|       Swansea|home|           2|            1| Emirates Stadium|     59493|Arsène Wenger|      Lee Mason|      9|    NULL|    NULL|     NULL| NULL|NULL|NULL|NULL|NULL|NULL|NULL|NULL|NULL|NULL|NULL|   NULL|   NULL|NULL|  NULL|NULL|NULL|NULL|  NULL|   NULL|  NULL|   NULL|  NULL|NULL|NULL|    NULL|\n",
      "|2017-11-05|2017/18|  11|2024-03-25 15:15:00|      Man City|away|           1|            3|   Etihad Stadium|     54286|Arsène Wenger| Michael Oliver|     10|    NULL|    NULL|     NULL| NULL|NULL|NULL|NULL|NULL|NULL|NULL|NULL|NULL|NULL|NULL|   NULL|   NULL|NULL|  NULL|NULL|NULL|NULL|  NULL|   NULL|  NULL|   NULL|  NULL|NULL|NULL|    NULL|\n",
      "|2017-11-18|2017/18|  12|2024-03-25 13:30:00|     Tottenham|home|           2|            0| Emirates Stadium|     59530|Arsène Wenger|      Mike Dean|     11|    NULL|    NULL|     NULL| NULL|NULL|NULL|NULL|NULL|NULL|NULL|NULL|NULL|NULL|NULL|   NULL|   NULL|NULL|  NULL|NULL|NULL|NULL|  NULL|   NULL|  NULL|   NULL|  NULL|NULL|NULL|    NULL|\n",
      "|2017-11-26|2017/18|  13|2024-03-25 15:00:00|       Burnley|away|           1|            0|        Turf Moor|     21722|Arsène Wenger|      Lee Mason|     12|    NULL|    NULL|     NULL| NULL|NULL|NULL|NULL|NULL|NULL|NULL|NULL|NULL|NULL|NULL|   NULL|   NULL|NULL|  NULL|NULL|NULL|NULL|  NULL|   NULL|  NULL|   NULL|  NULL|NULL|NULL|    NULL|\n",
      "|2017-11-29|2017/18|  14|2024-03-25 20:45:00|  Huddersfield|home|           5|            0| Emirates Stadium|     59285|Arsène Wenger|   Graham Scott|     13|    NULL|    NULL|     NULL| NULL|NULL|NULL|NULL|NULL|NULL|NULL|NULL|NULL|NULL|NULL|   NULL|   NULL|NULL|  NULL|NULL|NULL|NULL|  NULL|   NULL|  NULL|   NULL|  NULL|NULL|NULL|    NULL|\n",
      "|2017-12-02|2017/18|  15|2024-03-25 18:30:00|       Man Utd|home|           1|            3| Emirates Stadium|     59547|Arsène Wenger| Andre Marriner|     14|    NULL|    NULL|     NULL| NULL|NULL|NULL|NULL|NULL|NULL|NULL|NULL|NULL|NULL|NULL|   NULL|   NULL|NULL|  NULL|NULL|NULL|NULL|  NULL|   NULL|  NULL|   NULL|  NULL|NULL|NULL|    NULL|\n",
      "|2017-12-10|2017/18|  16|2024-03-25 13:00:00|   Southampton|away|           1|            1|St Mary's Stadium|     31643|Arsène Wenger|   Bobby Madley|     15|    NULL|    NULL|     NULL| NULL|NULL|NULL|NULL|NULL|NULL|NULL|NULL|NULL|NULL|NULL|   NULL|   NULL|NULL|  NULL|NULL|NULL|NULL|  NULL|   NULL|  NULL|   NULL|  NULL|NULL|NULL|    NULL|\n",
      "|2017-12-13|2017/18|  17|2024-03-25 21:00:00|      West Ham|away|           0|            0|   London Stadium|     56925|Arsène Wenger|  Jonathan Moss|     16|    NULL|    NULL|     NULL| NULL|NULL|NULL|NULL|NULL|NULL|NULL|NULL|NULL|NULL|NULL|   NULL|   NULL|NULL|  NULL|NULL|NULL|NULL|  NULL|   NULL|  NULL|   NULL|  NULL|NULL|NULL|    NULL|\n",
      "|2017-12-16|2017/18|  18|2024-03-25 16:00:00|     Newcastle|home|           1|            0| Emirates Stadium|     59379|Arsène Wenger| Stuart Attwell|     17|    NULL|    NULL|     NULL| NULL|NULL|NULL|NULL|NULL|NULL|NULL|NULL|NULL|NULL|NULL|   NULL|   NULL|NULL|  NULL|NULL|NULL|NULL|  NULL|   NULL|  NULL|   NULL|  NULL|NULL|NULL|    NULL|\n",
      "|2017-12-22|2017/18|  19|2024-03-25 20:45:00|     Liverpool|home|           3|            3| Emirates Stadium|     59409|Arsène Wenger|Martin Atkinson|     18|    NULL|    NULL|     NULL| NULL|NULL|NULL|NULL|NULL|NULL|NULL|NULL|NULL|NULL|NULL|   NULL|   NULL|NULL|  NULL|NULL|NULL|NULL|  NULL|   NULL|  NULL|   NULL|  NULL|NULL|NULL|    NULL|\n",
      "|2017-12-28|2017/18|  20|2024-03-25 21:00:00|Crystal Palace|away|           3|            2|    Selhurst Park|     25762|Arsène Wenger| Michael Oliver|     19|    NULL|    NULL|     NULL| NULL|NULL|NULL|NULL|NULL|NULL|NULL|NULL|NULL|NULL|NULL|   NULL|   NULL|NULL|  NULL|NULL|NULL|NULL|  NULL|   NULL|  NULL|   NULL|  NULL|NULL|NULL|    NULL|\n",
      "+----------+-------+----+-------------------+--------------+----+------------+-------------+-----------------+----------+-------------+---------------+-------+--------+--------+---------+-----+----+----+----+----+----+----+----+----+----+----+-------+-------+----+------+----+----+----+------+-------+------+-------+------+----+----+--------+\n",
      "only showing top 20 rows\n",
      "\n"
     ]
    }
   ],
   "source": [
    "FactPlayers = DimMatches.join(DimPlayers, on='Date', how= 'left')\n",
    "FactPlayers.show()"
   ]
  },
  {
   "cell_type": "code",
   "execution_count": 25,
   "id": "803fe9af-dcb7-4c24-9461-d7e338b618c4",
   "metadata": {},
   "outputs": [
    {
     "data": {
      "text/plain": [
       "['Date',\n",
       " 'Season',\n",
       " 'Tour',\n",
       " 'Time',\n",
       " 'Opponent',\n",
       " 'HoAw',\n",
       " 'ArsenalScore',\n",
       " 'OpponentScore',\n",
       " 'Stadium',\n",
       " 'Attendance',\n",
       " 'Coach',\n",
       " 'Referee',\n",
       " 'MatchID',\n",
       " 'fullname',\n",
       " 'LastName',\n",
       " 'FirstName',\n",
       " 'Start',\n",
       " 'Pos',\n",
       " 'Min',\n",
       " 'G',\n",
       " 'A',\n",
       " 'PK',\n",
       " 'PKA',\n",
       " 'S',\n",
       " 'SoT',\n",
       " 'YK',\n",
       " 'RK',\n",
       " 'Touches',\n",
       " 'Tackles',\n",
       " 'Ints',\n",
       " 'Blocks',\n",
       " 'xG',\n",
       " 'npxG',\n",
       " 'xAG',\n",
       " 'Passes',\n",
       " 'PassesA',\n",
       " 'PrgPas',\n",
       " 'Carries',\n",
       " 'PrgCar',\n",
       " 'Line',\n",
       " 'C',\n",
       " 'PlayerID']"
      ]
     },
     "execution_count": 25,
     "metadata": {},
     "output_type": "execute_result"
    }
   ],
   "source": [
    "FactPlayers.columns"
   ]
  },
  {
   "cell_type": "code",
   "execution_count": 30,
   "id": "13517e4c-0330-4f00-bbfc-dfd08d36cd24",
   "metadata": {},
   "outputs": [
    {
     "data": {
      "text/plain": [
       "['Date',\n",
       " 'ArsenalScore',\n",
       " 'OpponentScore',\n",
       " 'Attendance',\n",
       " 'MatchID',\n",
       " 'Start',\n",
       " 'Pos',\n",
       " 'Min',\n",
       " 'G',\n",
       " 'A',\n",
       " 'PK',\n",
       " 'PKA',\n",
       " 'S',\n",
       " 'SoT',\n",
       " 'YK',\n",
       " 'RK',\n",
       " 'Touches',\n",
       " 'Tackles',\n",
       " 'Ints',\n",
       " 'Blocks',\n",
       " 'xG',\n",
       " 'npxG',\n",
       " 'xAG',\n",
       " 'Passes',\n",
       " 'PassesA',\n",
       " 'PrgPas',\n",
       " 'Carries',\n",
       " 'PrgCar',\n",
       " 'PlayerID']"
      ]
     },
     "execution_count": 30,
     "metadata": {},
     "output_type": "execute_result"
    }
   ],
   "source": [
    "FactPlayers = FactPlayers.drop(\n",
    " 'fullname',\n",
    " 'LastName',\n",
    " 'FirstName',\n",
    " 'Line',\n",
    " 'Stadium',\n",
    " 'Coach',\n",
    " 'Referee',\n",
    " 'Opponent',\n",
    " 'HoAw',\n",
    " 'Season',\n",
    " 'Tour',\n",
    " 'Time',\n",
    " 'C'\n",
    ")\n",
    "FactPlayers.columns"
   ]
  },
  {
   "cell_type": "code",
   "execution_count": 32,
   "id": "11f1f11d-a897-4caa-a60d-e6e7d59bcac4",
   "metadata": {},
   "outputs": [],
   "source": [
    "FactPlayers.write.csv('../data/FactPlayers', header=True)"
   ]
  },
  {
   "cell_type": "markdown",
   "id": "863cb273-b16a-487a-9173-2ff9220d3229",
   "metadata": {},
   "source": []
  },
  {
   "cell_type": "code",
   "execution_count": null,
   "id": "aa525a48-5454-4dfd-8fb5-a0b945bf17cd",
   "metadata": {},
   "outputs": [],
   "source": []
  },
  {
   "cell_type": "code",
   "execution_count": null,
   "id": "5c4361fe-3d7e-439d-b103-b30832bbb755",
   "metadata": {},
   "outputs": [],
   "source": []
  }
 ],
 "metadata": {
  "kernelspec": {
   "display_name": "Python 3 (ipykernel)",
   "language": "python",
   "name": "python3"
  },
  "language_info": {
   "codemirror_mode": {
    "name": "ipython",
    "version": 3
   },
   "file_extension": ".py",
   "mimetype": "text/x-python",
   "name": "python",
   "nbconvert_exporter": "python",
   "pygments_lexer": "ipython3",
   "version": "3.11.6"
  }
 },
 "nbformat": 4,
 "nbformat_minor": 5
}
