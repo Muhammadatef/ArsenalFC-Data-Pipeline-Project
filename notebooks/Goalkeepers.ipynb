{
 "cells": [
  {
   "cell_type": "markdown",
   "id": "cd221a04-9698-4e71-99ca-f5e3cdb359d2",
   "metadata": {},
   "source": [
    "### Transforming the GK DIMTable "
   ]
  },
  {
   "cell_type": "code",
   "execution_count": 1,
   "id": "c22535be-54f0-49c8-a859-25fecaae01a3",
   "metadata": {},
   "outputs": [],
   "source": [
    "from pyspark.sql import SparkSession\n",
    "from pyspark.sql.functions import *"
   ]
  },
  {
   "cell_type": "code",
   "execution_count": 2,
   "id": "2dd38ef5-5641-4a08-8826-11012506df05",
   "metadata": {},
   "outputs": [],
   "source": [
    "spark= SparkSession.builder.getOrCreate()"
   ]
  },
  {
   "cell_type": "code",
   "execution_count": 3,
   "id": "968d3461-990c-4fb2-8084-a559fc019854",
   "metadata": {},
   "outputs": [],
   "source": [
    "GoalKeepers = spark.read.format('csv')\\\n",
    "    .option(\"header\", \"True\")\\\n",
    "    .option(\"inferSchema\", \"True\")\\\n",
    "    .load(\"../data/goalkeepers.csv\")"
   ]
  },
  {
   "cell_type": "code",
   "execution_count": 4,
   "id": "12b5cebd-3092-40dc-922d-6b6ef8106f14",
   "metadata": {},
   "outputs": [
    {
     "data": {
      "text/plain": [
       "['LastName',\n",
       " 'FirstName',\n",
       " 'Date',\n",
       " 'Start',\n",
       " 'Pos',\n",
       " 'Min',\n",
       " 'SoTA',\n",
       " 'GA',\n",
       " 'Saves',\n",
       " 'PSxG',\n",
       " 'PKatt',\n",
       " 'PKA',\n",
       " 'PKm',\n",
       " 'PassAtt',\n",
       " 'Throws',\n",
       " 'AvgLen',\n",
       " 'GKAtt',\n",
       " 'GKAvgLen',\n",
       " 'C']"
      ]
     },
     "execution_count": 4,
     "metadata": {},
     "output_type": "execute_result"
    }
   ],
   "source": [
    "GoalKeepers.columns"
   ]
  },
  {
   "cell_type": "code",
   "execution_count": 5,
   "id": "9d822d5d-abe7-42ca-972b-8fe23467e901",
   "metadata": {},
   "outputs": [],
   "source": [
    "GoalKeepers.createOrReplaceTempView(\"GK\")"
   ]
  },
  {
   "cell_type": "code",
   "execution_count": 6,
   "id": "50c2f249-b401-4ce8-adc4-0ba1229f1ed2",
   "metadata": {},
   "outputs": [
    {
     "name": "stdout",
     "output_type": "stream",
     "text": [
      "+------------+\n",
      "|fullname    |\n",
      "+------------+\n",
      "|David Ospina|\n",
      "|Petr Cech   |\n",
      "|Petr Cech   |\n",
      "|David Ospina|\n",
      "|David Ospina|\n",
      "+------------+\n",
      "only showing top 5 rows\n",
      "\n"
     ]
    }
   ],
   "source": [
    "GoalKeepers= GoalKeepers.withColumn('fullname', concat_ws(\" \", col('FirstName'),col('LastName')))\n",
    "GoalKeepers.select(\"fullname\").show(5, False)"
   ]
  },
  {
   "cell_type": "code",
   "execution_count": 7,
   "id": "fe95cb6f-8813-4e8d-a1d7-3b562fd95cd5",
   "metadata": {},
   "outputs": [],
   "source": [
    "GoalKeepers_f = spark.sql(\"\"\"\n",
    "    select distinct concat(firstname, \" \", lastname) as fullname\n",
    "    from GK\n",
    "\n",
    "\"\"\")\n"
   ]
  },
  {
   "cell_type": "code",
   "execution_count": 8,
   "id": "7a1249b1-6eb1-4d3f-bd49-190fc0cc73ba",
   "metadata": {},
   "outputs": [
    {
     "data": {
      "text/plain": [
       "['fullname']"
      ]
     },
     "execution_count": 8,
     "metadata": {},
     "output_type": "execute_result"
    }
   ],
   "source": [
    "GoalKeepers_f.columns"
   ]
  },
  {
   "cell_type": "code",
   "execution_count": 10,
   "id": "2f8309db-156f-4e93-b58b-17bf07180b13",
   "metadata": {},
   "outputs": [
    {
     "ename": "AnalysisException",
     "evalue": "[UNRESOLVED_COLUMN.WITH_SUGGESTION] A column or function parameter with name `full_name` cannot be resolved. Did you mean one of the following? [`LastName`, `Date`, `FirstName`, `Min`, `PKm`].; line 2 pos 22;\n'Project [unresolvedalias('Count(distinct 'full_name), None)]\n+- SubqueryAlias gk\n   +- View (`GK`, [LastName#17,FirstName#18,Date#19,Start#20,Pos#21,Min#22,SoTA#23,GA#24,Saves#25,PSxG#26,PKatt#27,PKA#28,PKm#29,PassAtt#30,Throws#31,AvgLen#32,GKAtt#33,GKAvgLen#34,C#35])\n      +- Relation [LastName#17,FirstName#18,Date#19,Start#20,Pos#21,Min#22,SoTA#23,GA#24,Saves#25,PSxG#26,PKatt#27,PKA#28,PKm#29,PassAtt#30,Throws#31,AvgLen#32,GKAtt#33,GKAvgLen#34,C#35] csv\n",
     "output_type": "error",
     "traceback": [
      "\u001b[0;31m---------------------------------------------------------------------------\u001b[0m",
      "\u001b[0;31mAnalysisException\u001b[0m                         Traceback (most recent call last)",
      "Cell \u001b[0;32mIn[10], line 1\u001b[0m\n\u001b[0;32m----> 1\u001b[0m GK_ \u001b[38;5;241m=\u001b[39m \u001b[43mspark\u001b[49m\u001b[38;5;241;43m.\u001b[39;49m\u001b[43msql\u001b[49m\u001b[43m \u001b[49m\u001b[43m(\u001b[49m\u001b[38;5;124;43m\"\"\"\u001b[39;49m\n\u001b[1;32m      2\u001b[0m \u001b[38;5;124;43mselect Count(distinct full_name) from GK\u001b[39;49m\n\u001b[1;32m      3\u001b[0m \n\u001b[1;32m      4\u001b[0m \u001b[38;5;124;43m\"\"\"\u001b[39;49m\u001b[43m)\u001b[49m\u001b[38;5;241m.\u001b[39mshow()\n",
      "File \u001b[0;32m/usr/local/spark/python/pyspark/sql/session.py:1631\u001b[0m, in \u001b[0;36mSparkSession.sql\u001b[0;34m(self, sqlQuery, args, **kwargs)\u001b[0m\n\u001b[1;32m   1627\u001b[0m         \u001b[38;5;28;01massert\u001b[39;00m \u001b[38;5;28mself\u001b[39m\u001b[38;5;241m.\u001b[39m_jvm \u001b[38;5;129;01mis\u001b[39;00m \u001b[38;5;129;01mnot\u001b[39;00m \u001b[38;5;28;01mNone\u001b[39;00m\n\u001b[1;32m   1628\u001b[0m         litArgs \u001b[38;5;241m=\u001b[39m \u001b[38;5;28mself\u001b[39m\u001b[38;5;241m.\u001b[39m_jvm\u001b[38;5;241m.\u001b[39mPythonUtils\u001b[38;5;241m.\u001b[39mtoArray(\n\u001b[1;32m   1629\u001b[0m             [_to_java_column(lit(v)) \u001b[38;5;28;01mfor\u001b[39;00m v \u001b[38;5;129;01min\u001b[39;00m (args \u001b[38;5;129;01mor\u001b[39;00m [])]\n\u001b[1;32m   1630\u001b[0m         )\n\u001b[0;32m-> 1631\u001b[0m     \u001b[38;5;28;01mreturn\u001b[39;00m DataFrame(\u001b[38;5;28;43mself\u001b[39;49m\u001b[38;5;241;43m.\u001b[39;49m\u001b[43m_jsparkSession\u001b[49m\u001b[38;5;241;43m.\u001b[39;49m\u001b[43msql\u001b[49m\u001b[43m(\u001b[49m\u001b[43msqlQuery\u001b[49m\u001b[43m,\u001b[49m\u001b[43m \u001b[49m\u001b[43mlitArgs\u001b[49m\u001b[43m)\u001b[49m, \u001b[38;5;28mself\u001b[39m)\n\u001b[1;32m   1632\u001b[0m \u001b[38;5;28;01mfinally\u001b[39;00m:\n\u001b[1;32m   1633\u001b[0m     \u001b[38;5;28;01mif\u001b[39;00m \u001b[38;5;28mlen\u001b[39m(kwargs) \u001b[38;5;241m>\u001b[39m \u001b[38;5;241m0\u001b[39m:\n",
      "File \u001b[0;32m/usr/local/spark/python/lib/py4j-0.10.9.7-src.zip/py4j/java_gateway.py:1322\u001b[0m, in \u001b[0;36mJavaMember.__call__\u001b[0;34m(self, *args)\u001b[0m\n\u001b[1;32m   1316\u001b[0m command \u001b[38;5;241m=\u001b[39m proto\u001b[38;5;241m.\u001b[39mCALL_COMMAND_NAME \u001b[38;5;241m+\u001b[39m\\\n\u001b[1;32m   1317\u001b[0m     \u001b[38;5;28mself\u001b[39m\u001b[38;5;241m.\u001b[39mcommand_header \u001b[38;5;241m+\u001b[39m\\\n\u001b[1;32m   1318\u001b[0m     args_command \u001b[38;5;241m+\u001b[39m\\\n\u001b[1;32m   1319\u001b[0m     proto\u001b[38;5;241m.\u001b[39mEND_COMMAND_PART\n\u001b[1;32m   1321\u001b[0m answer \u001b[38;5;241m=\u001b[39m \u001b[38;5;28mself\u001b[39m\u001b[38;5;241m.\u001b[39mgateway_client\u001b[38;5;241m.\u001b[39msend_command(command)\n\u001b[0;32m-> 1322\u001b[0m return_value \u001b[38;5;241m=\u001b[39m \u001b[43mget_return_value\u001b[49m\u001b[43m(\u001b[49m\n\u001b[1;32m   1323\u001b[0m \u001b[43m    \u001b[49m\u001b[43manswer\u001b[49m\u001b[43m,\u001b[49m\u001b[43m \u001b[49m\u001b[38;5;28;43mself\u001b[39;49m\u001b[38;5;241;43m.\u001b[39;49m\u001b[43mgateway_client\u001b[49m\u001b[43m,\u001b[49m\u001b[43m \u001b[49m\u001b[38;5;28;43mself\u001b[39;49m\u001b[38;5;241;43m.\u001b[39;49m\u001b[43mtarget_id\u001b[49m\u001b[43m,\u001b[49m\u001b[43m \u001b[49m\u001b[38;5;28;43mself\u001b[39;49m\u001b[38;5;241;43m.\u001b[39;49m\u001b[43mname\u001b[49m\u001b[43m)\u001b[49m\n\u001b[1;32m   1325\u001b[0m \u001b[38;5;28;01mfor\u001b[39;00m temp_arg \u001b[38;5;129;01min\u001b[39;00m temp_args:\n\u001b[1;32m   1326\u001b[0m     \u001b[38;5;28;01mif\u001b[39;00m \u001b[38;5;28mhasattr\u001b[39m(temp_arg, \u001b[38;5;124m\"\u001b[39m\u001b[38;5;124m_detach\u001b[39m\u001b[38;5;124m\"\u001b[39m):\n",
      "File \u001b[0;32m/usr/local/spark/python/pyspark/errors/exceptions/captured.py:185\u001b[0m, in \u001b[0;36mcapture_sql_exception.<locals>.deco\u001b[0;34m(*a, **kw)\u001b[0m\n\u001b[1;32m    181\u001b[0m converted \u001b[38;5;241m=\u001b[39m convert_exception(e\u001b[38;5;241m.\u001b[39mjava_exception)\n\u001b[1;32m    182\u001b[0m \u001b[38;5;28;01mif\u001b[39;00m \u001b[38;5;129;01mnot\u001b[39;00m \u001b[38;5;28misinstance\u001b[39m(converted, UnknownException):\n\u001b[1;32m    183\u001b[0m     \u001b[38;5;66;03m# Hide where the exception came from that shows a non-Pythonic\u001b[39;00m\n\u001b[1;32m    184\u001b[0m     \u001b[38;5;66;03m# JVM exception message.\u001b[39;00m\n\u001b[0;32m--> 185\u001b[0m     \u001b[38;5;28;01mraise\u001b[39;00m converted \u001b[38;5;28;01mfrom\u001b[39;00m \u001b[38;5;28;01mNone\u001b[39;00m\n\u001b[1;32m    186\u001b[0m \u001b[38;5;28;01melse\u001b[39;00m:\n\u001b[1;32m    187\u001b[0m     \u001b[38;5;28;01mraise\u001b[39;00m\n",
      "\u001b[0;31mAnalysisException\u001b[0m: [UNRESOLVED_COLUMN.WITH_SUGGESTION] A column or function parameter with name `full_name` cannot be resolved. Did you mean one of the following? [`LastName`, `Date`, `FirstName`, `Min`, `PKm`].; line 2 pos 22;\n'Project [unresolvedalias('Count(distinct 'full_name), None)]\n+- SubqueryAlias gk\n   +- View (`GK`, [LastName#17,FirstName#18,Date#19,Start#20,Pos#21,Min#22,SoTA#23,GA#24,Saves#25,PSxG#26,PKatt#27,PKA#28,PKm#29,PassAtt#30,Throws#31,AvgLen#32,GKAtt#33,GKAvgLen#34,C#35])\n      +- Relation [LastName#17,FirstName#18,Date#19,Start#20,Pos#21,Min#22,SoTA#23,GA#24,Saves#25,PSxG#26,PKatt#27,PKA#28,PKm#29,PassAtt#30,Throws#31,AvgLen#32,GKAtt#33,GKAvgLen#34,C#35] csv\n"
     ]
    }
   ],
   "source": [
    "GK_ = spark.sql (\"\"\"\n",
    "select Count(distinct full_name) from GK\n",
    "\n",
    "\"\"\").show()"
   ]
  },
  {
   "cell_type": "code",
   "execution_count": null,
   "id": "dc63dfd6-0959-438c-87e9-ccbed0405730",
   "metadata": {},
   "outputs": [],
   "source": [
    "GoalKeepers_f= GoalKeepers_f.withColumn('GkID',monotonically_increasing_id()+1)\n"
   ]
  },
  {
   "cell_type": "code",
   "execution_count": null,
   "id": "35c89213-0237-4611-8e75-10abb52d72cb",
   "metadata": {},
   "outputs": [],
   "source": [
    "GoalKeepers_f.show()"
   ]
  },
  {
   "cell_type": "code",
   "execution_count": null,
   "id": "621c9440-ca4b-49e6-b798-643486f15e85",
   "metadata": {},
   "outputs": [],
   "source": [
    "DimGoalKeepers= GoalKeepers.join(GoalKeepers_f, on ='fullname', how=\"inner\")"
   ]
  },
  {
   "cell_type": "code",
   "execution_count": 29,
   "id": "f235cedc-42f7-4eb4-a720-3ce71cb009b9",
   "metadata": {},
   "outputs": [
    {
     "name": "stdout",
     "output_type": "stream",
     "text": [
      "+------------+--------+---------+----------+-----+---+---+----+---+-----+----+-----+----+----+-------+------+------+-----+--------+---+----+\n",
      "|    fullname|LastName|FirstName|      Date|Start|Pos|Min|SoTA| GA|Saves|PSxG|PKatt| PKA| PKm|PassAtt|Throws|AvgLen|GKAtt|GKAvgLen|  C|GkID|\n",
      "+------------+--------+---------+----------+-----+---+---+----+---+-----+----+-----+----+----+-------+------+------+-----+--------+---+----+\n",
      "|David Ospina|  Ospina|    David| 5/13/2018|    1| GK| 90|   3|  0|    3| 0.4|    0|   0|   0|     39|     8|  31.9|    9|    48.2|  0|   7|\n",
      "|   Petr Cech|    Cech|     Petr|  5/9/2018|    1| GK| 90|  10|  3|    7| 3.2|    1|   1|   0|     26|     7|  34.5|   11|    66.0|  1|   4|\n",
      "|   Petr Cech|    Cech|     Petr|  5/6/2018|    1| GK| 90|   2|  0|    2| 0.2|    0|   0|   0|     31|     8|  32.4|    2|    56.0|  1|   4|\n",
      "|David Ospina|  Ospina|    David| 4/29/2018|    1| GK| 90|   2|  2|    0| 1.3|    0|   0|   0|     15|     4|  41.1|    5|    49.0|  0|   7|\n",
      "|David Ospina|  Ospina|    David| 4/22/2018|    1| GK| 90|   4|  1|    3| 0.6|    0|   0|   0|     24|     6|  20.8|    4|    44.3|  0|   7|\n",
      "|   Petr Cech|    Cech|     Petr| 4/15/2018|    1| GK| 90|   4|  2|    2| 0.6|    0|   0|   0|     28|     6|  26.3|    6|    34.0|  1|   4|\n",
      "|   Petr Cech|    Cech|     Petr|  4/8/2018|    1| GK| 90|   7|  2|    5| 2.6|    0|   0|   0|     17|     9|  33.5|    6|    52.8|  1|   4|\n",
      "|David Ospina|  Ospina|    David|  4/1/2018|    1| GK| 90|   2|  0|    2| 0.1|    0|   0|   0|     30|     6|  26.3|    7|    48.0|  0|   7|\n",
      "|   Petr Cech|    Cech|     Petr| 3/11/2018|    1| GK| 90|   4|  0|    3| 1.8|    1|   0|   0|     17|     7|  32.9|   11|    45.1|  1|   4|\n",
      "|   Petr Cech|    Cech|     Petr|  3/4/2018|    1| GK| 90|   6|  2|    4| 0.9|    0|   0|   0|     31|     7|  35.8|    7|    43.9|  0|   4|\n",
      "|   Petr Cech|    Cech|     Petr|  3/1/2018|    1| GK| 90|   5|  3|    2| 3.1|    0|   0|   0|     37|     5|  34.4|    2|    75.0|  0|   4|\n",
      "|   Petr Cech|    Cech|     Petr| 2/10/2018|    1| GK| 90|   6|  1|    5| 1.8|    0|   0|   0|     38|    12|  37.2|   13|    43.8|  0|   4|\n",
      "|   Petr Cech|    Cech|     Petr|  2/3/2018|    1| GK| 69|   1|  1| NULL| 0.3| NULL|NULL|NULL|     13|     2|  45.7|    6|    53.8|  0|   4|\n",
      "|David Ospina|  Ospina|    David|  2/3/2018|    0| GK| 21|   1|  0|    1| 0.1|    0|   0|   0|      8|     3|  31.1|    3|    46.3|  0|   7|\n",
      "|   Petr Cech|    Cech|     Petr| 1/30/2018|    1| GK| 90|   4|  3|    1| 2.8|    0|   0|   0|     19|     7|  27.4|    5|    37.8|  0|   4|\n",
      "|   Petr Cech|    Cech|     Petr| 1/20/2018|    1| GK| 90|   5|  1|    4| 1.1|    0|   0|   0|     27|     8|  28.4|    5|    47.8|  0|   4|\n",
      "|   Petr Cech|    Cech|     Petr| 1/14/2018|    1| GK| 90|   5|  2|    3| 0.3|    0|   0|   0|     28|     6|  43.8|    7|    59.0|  1|   4|\n",
      "|   Petr Cech|    Cech|     Petr|  1/3/2018|    1| GK| 90|   6|  2|    4| 2.0|    1|   1|   0|     20|     7|  27.0|   10|    34.7|  1|   4|\n",
      "|   Petr Cech|    Cech|     Petr|12/31/2017|    1| GK| 90|   3|  1|    2| 1.0|    1|   1|   0|     25|     8|  32.8|    7|    35.4|  0|   4|\n",
      "|   Petr Cech|    Cech|     Petr|12/28/2017|    1| GK| 90|   2|  2|    0| 0.6|    0|   0|   0|     16|     4|  33.2|   13|    44.4|  0|   4|\n",
      "+------------+--------+---------+----------+-----+---+---+----+---+-----+----+-----+----+----+-------+------+------+-----+--------+---+----+\n",
      "only showing top 20 rows\n",
      "\n"
     ]
    }
   ],
   "source": [
    "DimGoalKeepers.show()"
   ]
  },
  {
   "cell_type": "code",
   "execution_count": 31,
   "id": "6fd49087-fe00-4543-8eaa-df1e03070d40",
   "metadata": {},
   "outputs": [
    {
     "data": {
      "text/plain": [
       "['fullname',\n",
       " 'LastName',\n",
       " 'FirstName',\n",
       " 'Date',\n",
       " 'Start',\n",
       " 'Pos',\n",
       " 'Min',\n",
       " 'SoTA',\n",
       " 'GA',\n",
       " 'Saves',\n",
       " 'PSxG',\n",
       " 'PKatt',\n",
       " 'PKA',\n",
       " 'PKm',\n",
       " 'PassAtt',\n",
       " 'Throws',\n",
       " 'AvgLen',\n",
       " 'GKAtt',\n",
       " 'GKAvgLen',\n",
       " 'C',\n",
       " 'GkID']"
      ]
     },
     "execution_count": 31,
     "metadata": {},
     "output_type": "execute_result"
    }
   ],
   "source": [
    "DimGoalKeepers.columns"
   ]
  },
  {
   "cell_type": "code",
   "execution_count": 32,
   "id": "65eecbb6-2fc7-49b0-a99f-51f4fa7736d8",
   "metadata": {},
   "outputs": [],
   "source": [
    "DimGoalKeepers.write.csv('../data/DimGoalkaeeper', header=True)"
   ]
  },
  {
   "cell_type": "markdown",
   "id": "2963ef91-821e-49db-a7bc-0af98f8c44a2",
   "metadata": {},
   "source": [
    "### Creating the FactGK "
   ]
  },
  {
   "cell_type": "code",
   "execution_count": 35,
   "id": "5e4310a7-859c-4285-852b-e03d0e6f0e7a",
   "metadata": {},
   "outputs": [],
   "source": [
    "DimMatches = spark.read.format('csv')\\\n",
    "    .option(\"header\", \"True\")\\\n",
    "    .option(\"inferSchema\", \"True\")\\\n",
    "    .load(\"../data/DimMatches/DimMatches.csv\")"
   ]
  },
  {
   "cell_type": "code",
   "execution_count": 11,
   "id": "cf20df6d-5a1b-4622-b6a2-84fae8b4f94e",
   "metadata": {},
   "outputs": [
    {
     "ename": "NameError",
     "evalue": "name 'DimMatches' is not defined",
     "output_type": "error",
     "traceback": [
      "\u001b[0;31m---------------------------------------------------------------------------\u001b[0m",
      "\u001b[0;31mNameError\u001b[0m                                 Traceback (most recent call last)",
      "Cell \u001b[0;32mIn[11], line 1\u001b[0m\n\u001b[0;32m----> 1\u001b[0m FactGk \u001b[38;5;241m=\u001b[39m \u001b[43mDimMatches\u001b[49m\u001b[38;5;241m.\u001b[39mjoin(DimGoalKeepers, on\u001b[38;5;241m=\u001b[39m\u001b[38;5;124m'\u001b[39m\u001b[38;5;124mDate\u001b[39m\u001b[38;5;124m'\u001b[39m, how\u001b[38;5;241m=\u001b[39m\u001b[38;5;124m'\u001b[39m\u001b[38;5;124mleft\u001b[39m\u001b[38;5;124m'\u001b[39m)\n\u001b[1;32m      2\u001b[0m FactGk\u001b[38;5;241m.\u001b[39mcolumns\u001b[38;5;241m.\u001b[39mcount()\n",
      "\u001b[0;31mNameError\u001b[0m: name 'DimMatches' is not defined"
     ]
    }
   ],
   "source": [
    "FactGk = DimMatches.join(DimGoalKeepers, on='Date', how='left')\n",
    "FactGk.columns"
   ]
  },
  {
   "cell_type": "code",
   "execution_count": 42,
   "id": "8ec65664-5f91-4186-a726-c2222f1f4b97",
   "metadata": {},
   "outputs": [],
   "source": [
    "FactGK = FactGk.drop( \n",
    " 'Season',\n",
    " 'Tour',\n",
    " 'Time',\n",
    " 'Opponent',\n",
    " 'HoAw',\n",
    " 'Stadium',\n",
    " 'Coach',\n",
    " 'Referee',\n",
    "  'Pos',\n",
    "    'C',\n",
    "'fullname',\n",
    " 'LastName',\n",
    " 'FirstName'\n",
    " \n",
    ")"
   ]
  },
  {
   "cell_type": "code",
   "execution_count": 43,
   "id": "5bb82cdb-f0c6-429d-a0e5-e34777747afc",
   "metadata": {},
   "outputs": [
    {
     "data": {
      "text/plain": [
       "['Date',\n",
       " 'ArsenalScore',\n",
       " 'OpponentScore',\n",
       " 'Attendance',\n",
       " 'MatchID',\n",
       " 'Start',\n",
       " 'Min',\n",
       " 'SoTA',\n",
       " 'GA',\n",
       " 'Saves',\n",
       " 'PSxG',\n",
       " 'PKatt',\n",
       " 'PKA',\n",
       " 'PKm',\n",
       " 'PassAtt',\n",
       " 'Throws',\n",
       " 'AvgLen',\n",
       " 'GKAtt',\n",
       " 'GKAvgLen',\n",
       " 'GkID']"
      ]
     },
     "execution_count": 43,
     "metadata": {},
     "output_type": "execute_result"
    }
   ],
   "source": [
    "FactGK.columns"
   ]
  },
  {
   "cell_type": "code",
   "execution_count": 44,
   "id": "f533e64d-e9b6-439e-a800-3ec5cf0da6aa",
   "metadata": {},
   "outputs": [],
   "source": [
    "FactGK.write.csv('../data/FactGK', header=True)"
   ]
  },
  {
   "cell_type": "code",
   "execution_count": null,
   "id": "9d412a72-8ef4-45ca-afd2-258b91bce381",
   "metadata": {},
   "outputs": [],
   "source": []
  }
 ],
 "metadata": {
  "kernelspec": {
   "display_name": "Python 3 (ipykernel)",
   "language": "python",
   "name": "python3"
  },
  "language_info": {
   "codemirror_mode": {
    "name": "ipython",
    "version": 3
   },
   "file_extension": ".py",
   "mimetype": "text/x-python",
   "name": "python",
   "nbconvert_exporter": "python",
   "pygments_lexer": "ipython3",
   "version": "3.11.6"
  }
 },
 "nbformat": 4,
 "nbformat_minor": 5
}
