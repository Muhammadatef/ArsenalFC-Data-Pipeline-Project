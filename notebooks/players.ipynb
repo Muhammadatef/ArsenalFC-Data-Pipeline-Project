{
 "cells": [
  {
   "cell_type": "code",
   "execution_count": 3,
   "id": "9e72f9a4-2562-42df-9b7c-bc5a52f24fac",
   "metadata": {},
   "outputs": [],
   "source": [
    "from pyspark.sql import SparkSession\n",
    "from pyspark.sql.functions import *"
   ]
  },
  {
   "cell_type": "code",
   "execution_count": 4,
   "id": "9b81d935-aac2-4376-b60a-35ffa1030aca",
   "metadata": {},
   "outputs": [],
   "source": [
    "spark= SparkSession.builder.getOrCreate()"
   ]
  },
  {
   "cell_type": "code",
   "execution_count": 6,
   "id": "1267fe7b-2a19-40fa-8e4f-f88cb3801d0c",
   "metadata": {},
   "outputs": [],
   "source": [
    "players= spark.read.format('csv')\\\n",
    "    .option(\"header\", \"True\")\\\n",
    "    .option(\"inferSchema\", \"True\")\\\n",
    "    .load(\"../data/players.csv\")"
   ]
  },
  {
   "cell_type": "code",
   "execution_count": 59,
   "id": "1705d70b-fab4-494e-9987-7575abd3b175",
   "metadata": {},
   "outputs": [
    {
     "name": "stdout",
     "output_type": "stream",
     "text": [
      "+--------------+--------------+----------+-----+---+----+---+---+---+---+---+---+---+---+-------+-------+----+------+---+----+---+------+-------+------+-------+------+----------+---+\n",
      "|      LastName|     FirstName|      Date|Start|Pos| Min|  G|  A| PK|PKA|  S|SoT| YK| RK|Touches|Tackles|Ints|Blocks| xG|npxG|xAG|Passes|PassesA|PrgPas|Carries|PrgCar|      Line|  C|\n",
      "+--------------+--------------+----------+-----+---+----+---+---+---+---+---+---+---+---+-------+-------+----+------+---+----+---+------+-------+------+-------+------+----------+---+\n",
      "|    Aubameyang|Pierre-Emerick|2018-05-13|    1| LW|66.0|1.0|0.0|0.0|0.0|1.0|1.0|0.0|0.0|   36.0|    0.0| 0.0|   2.0|0.8| 0.8|0.0|  18.0|   31.0|   0.0|   24.0|   0.0|   Forward|  0|\n",
      "|      Bellerin|        Hector|2018-05-13|    1| RB|90.0|0.0|0.0|0.0|0.0|0.0|0.0|0.0|0.0|   62.0|    1.0| 1.0|   2.0|0.0| 0.0|0.0|  42.0|   47.0|   3.0|   25.0|   2.0|  Defender|  0|\n",
      "|       Holding|           Rob|2018-05-13|    1| CB|90.0|0.0|0.0|0.0|0.0|0.0|0.0|0.0|0.0|   75.0|    2.0| 1.0|   4.0|0.0| 0.0|0.0|  54.0|   63.0|   8.0|   42.0|   0.0|  Defender|  0|\n",
      "|         Iwobi|          Alex|2018-05-13|    1| RM|71.0|0.0|0.0|0.0|0.0|0.0|0.0|0.0|0.0|   55.0|    0.0| 0.0|   1.0|0.0| 0.0|0.0|  47.0|   52.0|   4.0|   43.0|   0.0|Midfielder|  0|\n",
      "|     Kolasinac|          Sead|2018-05-13|    1| LB|67.0|0.0|0.0|0.0|0.0|1.0|0.0|0.0|0.0|   52.0|    1.0| 1.0|   0.0|0.3| 0.3|0.0|  35.0|   43.0|   1.0|   26.0|   1.0|  Defender|  0|\n",
      "|     Lacazette|     Alexandre|2018-05-13|    1| FW|90.0|0.0|0.0|0.0|0.0|1.0|1.0|0.0|0.0|   40.0|    0.0| 1.0|   0.0|0.2| 0.2|0.0|  31.0|   36.0|   4.0|   31.0|   2.0|   Forward|  0|\n",
      "|    Mkhitaryan|       Henrikh|2018-05-13|    1| RW|90.0|0.0|0.0|0.0|0.0|2.0|0.0|0.0|0.0|   60.0|    0.0| 0.0|   2.0|0.1| 0.1|0.2|  33.0|   49.0|   5.0|   48.0|   1.0|   Forward|  0|\n",
      "|       Mustafi|      Shkodran|2018-05-13|    1| CB|90.0|0.0|0.0|0.0|0.0|0.0|0.0|0.0|0.0|   67.0|    1.0| 3.0|   0.0|0.0| 0.0|0.3|  43.0|   48.0|   3.0|   40.0|   0.0|  Defender|  0|\n",
      "|        Ramsey|         Aaron|2018-05-13|    1| LM|90.0|0.0|1.0|0.0|0.0|2.0|1.0|0.0|0.0|   62.0|    3.0| 0.0|   0.0|0.0| 0.0|0.8|  34.0|   50.0|   2.0|   47.0|   1.0|Midfielder|  1|\n",
      "|         Xhaka|        Granit|2018-05-13|    1| CM|90.0|0.0|0.0|0.0|0.0|1.0|0.0|0.0|0.0|   66.0|    2.0| 0.0|   2.0|0.0| 0.0|0.0|  54.0|   57.0|   8.0|   39.0|   0.0|Midfielder|  0|\n",
      "|Maitland-Niles|       Ainsley|2018-05-13|    0| RM|19.0|0.0|0.0|0.0|0.0|0.0|0.0|0.0|0.0|   17.0|    1.0| 1.0|   1.0|0.0| 0.0|0.0|   8.0|   12.0|   2.0|    9.0|   0.0|Midfielder|  0|\n",
      "|       Monreal|         Nacho|2018-05-13|    0| LB|23.0|0.0|0.0|0.0|0.0|0.0|0.0|0.0|0.0|   18.0|    0.0| 0.0|   0.0|0.0| 0.0|0.0|  12.0|   17.0|   2.0|   11.0|   0.0|  Defender|  0|\n",
      "|       Welbeck|         Danny|2018-05-13|    0| LW|24.0|0.0|0.0|0.0|0.0|1.0|1.0|0.0|0.0|    9.0|    0.0| 0.0|   0.0|0.5| 0.5|0.0|   4.0|    8.0|   0.0|    7.0|   3.0|   Forward|  0|\n",
      "|    Aubameyang|Pierre-Emerick|2018-05-09|    1| FW|90.0|1.0|0.0|0.0|0.0|6.0|3.0|0.0|0.0|   33.0|    0.0| 0.0|   1.0|1.0| 1.0|0.0|  15.0|   21.0|   0.0|   13.0|   3.0|   Forward|  0|\n",
      "|       Holding|           Rob|2018-05-09|    1| CB|90.0|0.0|0.0|0.0|0.0|0.0|0.0|1.0|0.0|   61.0|    3.0| 2.0|   2.0|0.0| 0.0|0.0|  40.0|   50.0|   3.0|   36.0|   1.0|  Defender|  0|\n",
      "|         Iwobi|          Alex|2018-05-09|    1| RM|83.0|0.0|0.0|0.0|0.0|2.0|1.0|0.0|0.0|   61.0|    0.0| 1.0|   1.0|0.1| 0.1|0.1|  43.0|   53.0|   3.0|   49.0|   6.0|Midfielder|  0|\n",
      "|     Kolasinac|          Sead|2018-05-09|    1| LB|90.0|0.0|0.0|0.0|0.0|2.0|1.0|0.0|0.0|   61.0|    5.0| 1.0|   0.0|0.2| 0.2|0.0|  45.0|   51.0|   6.0|   30.0|   2.0|  Defender|  0|\n",
      "|Maitland-Niles|       Ainsley|2018-05-09|    1| RB|90.0|0.0|0.0|0.0|0.0|0.0|0.0|0.0|0.0|   66.0|    3.0| 1.0|   2.0|0.0| 0.0|0.5|  41.0|   54.0|   3.0|   32.0|   2.0|  Defender|  0|\n",
      "|    Mkhitaryan|       Henrikh|2018-05-09|    1| RM|90.0|0.0|0.0|0.0|0.0|3.0|2.0|0.0|0.0|   75.0|    2.0| 2.0|   3.0|0.2| 0.2|0.1|  43.0|   62.0|   6.0|   56.0|   6.0|Midfielder|  0|\n",
      "|        Ramsey|         Aaron|2018-05-09|    1| CM|90.0|0.0|0.0|0.0|0.0|0.0|0.0|0.0|0.0|   65.0|    1.0| 2.0|   0.0|0.0| 0.0|0.1|  49.0|   61.0|   5.0|   56.0|   3.0|Midfielder|  0|\n",
      "+--------------+--------------+----------+-----+---+----+---+---+---+---+---+---+---+---+-------+-------+----+------+---+----+---+------+-------+------+-------+------+----------+---+\n",
      "only showing top 20 rows\n",
      "\n"
     ]
    }
   ],
   "source": [
    "players.show()"
   ]
  },
  {
   "cell_type": "code",
   "execution_count": 8,
   "id": "296c749b-8ce3-43b0-a519-1b08fb489ad8",
   "metadata": {},
   "outputs": [
    {
     "data": {
      "text/plain": [
       "['LastName',\n",
       " 'FirstName',\n",
       " 'Date',\n",
       " 'Start',\n",
       " 'Pos',\n",
       " 'Min',\n",
       " 'G',\n",
       " 'A',\n",
       " 'PK',\n",
       " 'PKA',\n",
       " 'S',\n",
       " 'SoT',\n",
       " 'YK',\n",
       " 'RK',\n",
       " 'Touches',\n",
       " 'Tackles',\n",
       " 'Ints',\n",
       " 'Blocks',\n",
       " 'xG',\n",
       " 'npxG',\n",
       " 'xAG',\n",
       " 'Passes',\n",
       " 'PassesA',\n",
       " 'PrgPas',\n",
       " 'Carries',\n",
       " 'PrgCar',\n",
       " 'Line',\n",
       " 'C']"
      ]
     },
     "execution_count": 8,
     "metadata": {},
     "output_type": "execute_result"
    }
   ],
   "source": [
    "players.columns"
   ]
  },
  {
   "cell_type": "code",
   "execution_count": 9,
   "id": "f836af80-4f96-437e-abb7-5a279f460dba",
   "metadata": {},
   "outputs": [
    {
     "data": {
      "text/plain": [
       "StructType([StructField('LastName', StringType(), True), StructField('FirstName', StringType(), True), StructField('Date', StringType(), True), StructField('Start', IntegerType(), True), StructField('Pos', StringType(), True), StructField('Min', IntegerType(), True), StructField('G', IntegerType(), True), StructField('A', IntegerType(), True), StructField('PK', IntegerType(), True), StructField('PKA', IntegerType(), True), StructField('S', IntegerType(), True), StructField('SoT', IntegerType(), True), StructField('YK', IntegerType(), True), StructField('RK', IntegerType(), True), StructField('Touches', IntegerType(), True), StructField('Tackles', IntegerType(), True), StructField('Ints', IntegerType(), True), StructField('Blocks', IntegerType(), True), StructField('xG', DoubleType(), True), StructField('npxG', DoubleType(), True), StructField('xAG', DoubleType(), True), StructField('Passes', IntegerType(), True), StructField('PassesA', IntegerType(), True), StructField('PrgPas', IntegerType(), True), StructField('Carries', IntegerType(), True), StructField('PrgCar', IntegerType(), True), StructField('Line', StringType(), True), StructField('C', IntegerType(), True)])"
      ]
     },
     "execution_count": 9,
     "metadata": {},
     "output_type": "execute_result"
    }
   ],
   "source": [
    "players.schema"
   ]
  },
  {
   "cell_type": "code",
   "execution_count": 10,
   "id": "e6826a4d-f4f2-40b6-bd25-4573272098a4",
   "metadata": {},
   "outputs": [],
   "source": [
    "players.createOrReplaceTempView(\"players\")"
   ]
  },
  {
   "cell_type": "code",
   "execution_count": 11,
   "id": "8f4ec890-a3d1-41c1-8f80-5e5f8c22e2c1",
   "metadata": {},
   "outputs": [
    {
     "data": {
      "text/plain": [
       "2741"
      ]
     },
     "execution_count": 11,
     "metadata": {},
     "output_type": "execute_result"
    }
   ],
   "source": [
    "spark.sql(\"\"\"\n",
    "    select concat(firstname, \" \", lastname) as fullname\n",
    "    from players\n",
    "\n",
    "\"\"\").count()"
   ]
  },
  {
   "cell_type": "code",
   "execution_count": 12,
   "id": "cb21c606-ff23-46bd-9a03-9db78e9c9bbd",
   "metadata": {},
   "outputs": [
    {
     "name": "stdout",
     "output_type": "stream",
     "text": [
      "+-------------------+\n",
      "|           fullname|\n",
      "+-------------------+\n",
      "|   Emile Smith Rowe|\n",
      "|    Folarin Balogun|\n",
      "|    Hector Bellerin|\n",
      "|        Joe Willock|\n",
      "|     William Saliba|\n",
      "|       Aaron Ramsey|\n",
      "|        Bukayo Saka|\n",
      "|     Kieran Tierney|\n",
      "|   Shkodran Mustafi|\n",
      "|    Daniel Ceballos|\n",
      "|Alexandre Lacazette|\n",
      "|     Kieran Willian|\n",
      "|      Gabriel Jesus|\n",
      "|      Danny Welbeck|\n",
      "| Gabriel Marquinhos|\n",
      "|         Pablo Mari|\n",
      "|          Ben White|\n",
      "|      Ethan Nwaneri|\n",
      "|     Sead Kolasinac|\n",
      "|     Calum Chambers|\n",
      "+-------------------+\n",
      "only showing top 20 rows\n",
      "\n"
     ]
    }
   ],
   "source": [
    "distnict_players= spark.sql(\"\"\"\n",
    "    select distinct concat(firstname, \" \", lastname) as fullname\n",
    "    from players\n",
    "\n",
    "\"\"\")\n",
    "distnict_players.show(10)"
   ]
  },
  {
   "cell_type": "code",
   "execution_count": 23,
   "id": "d31e3785-0cab-4e30-a079-b72b9487b729",
   "metadata": {},
   "outputs": [
    {
     "name": "stdout",
     "output_type": "stream",
     "text": [
      "+--------------------+\n",
      "|count(DISTINCT Date)|\n",
      "+--------------------+\n",
      "|                 214|\n",
      "+--------------------+\n",
      "\n"
     ]
    }
   ],
   "source": [
    "players_Dates= spark.sql(\"\"\"\n",
    "    select count(distinct Date) \n",
    "    from players\n",
    "\n",
    "\"\"\")\n",
    "players_Dates.show()"
   ]
  },
  {
   "cell_type": "markdown",
   "id": "9ff7644d-0b08-4d9d-a06c-d6a98ec1d3c3",
   "metadata": {},
   "source": [
    "## Here we make sure that the distinct count date for matches in DimMatches Equal the distinct count Date for DimPlayers 214"
   ]
  },
  {
   "cell_type": "code",
   "execution_count": 13,
   "id": "3ef5be0e-fa39-4e65-b25e-f8ed29f3a28f",
   "metadata": {},
   "outputs": [],
   "source": [
    "distnict_players= distnict_players.withColumn(\"PlayerID\", monotonically_increasing_id())"
   ]
  },
  {
   "cell_type": "code",
   "execution_count": 14,
   "id": "6423abf7-dfc9-43bd-8453-c1dea0b44624",
   "metadata": {},
   "outputs": [
    {
     "name": "stdout",
     "output_type": "stream",
     "text": [
      "+-------------------+\n",
      "|fullname           |\n",
      "+-------------------+\n",
      "|Hector Bellerin    |\n",
      "|Mohamed Elneny     |\n",
      "|Rob Holding        |\n",
      "|Sead Kolasinac     |\n",
      "|Alexandre Lacazette|\n",
      "+-------------------+\n",
      "only showing top 5 rows\n",
      "\n"
     ]
    }
   ],
   "source": [
    "players= players.withColumn('fullname', concat_ws(\" \", col('FirstName'),col('LastName')))\n",
    "players.select(\"fullname\").show(5, False)"
   ]
  },
  {
   "cell_type": "code",
   "execution_count": 15,
   "id": "35c9a9ed-1b08-4bf4-bd68-0e4661ed5fff",
   "metadata": {},
   "outputs": [],
   "source": [
    "dimPlayer= players.join(distnict_players, on ='fullname', how=\"inner\")"
   ]
  },
  {
   "cell_type": "code",
   "execution_count": 19,
   "id": "94486e9b-3ec7-4746-a5fd-690784d11665",
   "metadata": {
    "scrolled": true
   },
   "outputs": [],
   "source": [
    "dimPlayer.write.csv('../data/Dimplayers.csv', header=True)"
   ]
  },
  {
   "cell_type": "code",
   "execution_count": 17,
   "id": "a24b8224-5a63-4302-8898-15aa93070030",
   "metadata": {},
   "outputs": [
    {
     "name": "stdout",
     "output_type": "stream",
     "text": [
      "+--------+---------+---------+---------+-----+---+---+---+---+---+---+\n",
      "|PlayerID| LastName|FirstName|     Date|Start|Pos|Min|  G|  A| PK|PKA|\n",
      "+--------+---------+---------+---------+-----+---+---+---+---+---+---+\n",
      "|       2| Bellerin|   Hector|8/11/2017|    1| WB| 90|  0|  0|  0|  0|\n",
      "|      49|   Elneny|  Mohamed|8/11/2017|    1| CM| 66|  0|  1|  0|  0|\n",
      "|      26|  Holding|      Rob|8/11/2017|    1| CB| 66|  0|  0|  0|  0|\n",
      "|      18|Kolasinac|     Sead|8/11/2017|    1| CB| 90|  0|  1|  0|  0|\n",
      "|      10|Lacazette|Alexandre|8/11/2017|    1| FW| 90|  1|  0|  0|  0|\n",
      "|      21|  Monreal|    Nacho|8/11/2017|    1| CB| 90|  0|  0|  0|  0|\n",
      "|      53|     Ozil|    Mesut|8/11/2017|    1| AM| 90|  0|  0|  0|  0|\n",
      "|      13|  Welbeck|    Danny|8/11/2017|    1| AM| 74|  1|  0|  0|  0|\n",
      "|      44|    Xhaka|   Granit|8/11/2017|    1| CM| 90|  0|  2|  0|  0|\n",
      "|       5|   Ramsey|    Aaron|8/11/2017|    0| DM| 24|  1|  0|  0|  0|\n",
      "|       2| Bellerin|   Hector|8/19/2017|    1| WB| 90|  0|  0|  0|  0|\n",
      "|      18|Kolasinac|     Sead|8/19/2017|    1| CB| 65|  0|  0|  0|  0|\n",
      "|      10|Lacazette|Alexandre|8/19/2017|    1| FW| 77|  0|  0|  0|  0|\n",
      "|      21|  Monreal|    Nacho|8/19/2017|    1| CB| 90|  0|  0|  0|  0|\n",
      "|       8|  Mustafi| Shkodran|8/19/2017|    1| CB| 90|  0|  0|  0|  0|\n",
      "|      53|     Ozil|    Mesut|8/19/2017|    1| AM| 90|  0|  0|  0|  0|\n",
      "|       5|   Ramsey|    Aaron|8/19/2017|    1| CM| 90|  0|  0|  0|  0|\n",
      "|      13|  Welbeck|    Danny|8/19/2017|    1| AM| 90|  0|  0|  0|  0|\n",
      "|      44|    Xhaka|   Granit|8/19/2017|    1| CM| 78|  0|  0|  0|  0|\n",
      "|      50|    Iwobi|     Alex|8/19/2017|    0| DM| 12|  0|  0|  0|  0|\n",
      "+--------+---------+---------+---------+-----+---+---+---+---+---+---+\n",
      "only showing top 20 rows\n",
      "\n"
     ]
    }
   ],
   "source": [
    "dimPlayer.select('PlayerID',\n",
    "'LastName',\n",
    " 'FirstName',\n",
    " 'Date',\n",
    " 'Start',\n",
    " 'Pos',\n",
    " 'Min',\n",
    " 'G',\n",
    " 'A',\n",
    " 'PK',\n",
    " 'PKA' \n",
    ").show()"
   ]
  },
  {
   "cell_type": "code",
   "execution_count": null,
   "id": "ee1553d3-1350-449b-9768-bc7e099ad8cb",
   "metadata": {},
   "outputs": [],
   "source": []
  }
 ],
 "metadata": {
  "kernelspec": {
   "display_name": "Python 3 (ipykernel)",
   "language": "python",
   "name": "python3"
  },
  "language_info": {
   "codemirror_mode": {
    "name": "ipython",
    "version": 3
   },
   "file_extension": ".py",
   "mimetype": "text/x-python",
   "name": "python",
   "nbconvert_exporter": "python",
   "pygments_lexer": "ipython3",
   "version": "3.11.6"
  }
 },
 "nbformat": 4,
 "nbformat_minor": 5
}
